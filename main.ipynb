{
 "cells": [
  {
   "cell_type": "markdown",
   "metadata": {},
   "source": [
    "### Introduction\n",
    "\n",
    "The dataset used for this project was sourced from: https://www.kaggle.com/datasets/guanhaopeng/uk-used-car-market\n",
    "\n",
    "The data includes approximately 1,000,0000 records representing adverts from one the UK's largest automotive online marketplace and classified advertising sites, Auto Trader. This includes features such as make, model, trim, year of registration, price and more.\n",
    "\n",
    "\n",
    "### Objective\n",
    "\n",
    "This project will look at creating a machine learning regression model to predict the value of a vehicle based on provided information. The intention is to deploy this model as part of a web application so that visitors to the app can get accurate valuations of the vehicle."
   ]
  },
  {
   "cell_type": "code",
   "execution_count": 483,
   "metadata": {},
   "outputs": [],
   "source": [
    "import pandas as pd\n",
    "import numpy as np\n",
    "import seaborn as sns\n",
    "import matplotlib.pyplot as plt\n",
    "\n",
    "from sklearn.pipeline import Pipeline\n",
    "from sklearn.preprocessing import OneHotEncoder, OrdinalEncoder, StandardScaler, FunctionTransformer\n",
    "from sklearn.compose import ColumnTransformer\n",
    "from sklearn.model_selection import train_test_split, cross_val_score, KFold\n",
    "from sklearn.linear_model import LinearRegression, SGDRegressor\n",
    "from sklearn.ensemble import RandomForestRegressor, GradientBoostingRegressor\n",
    "from sklearn.tree import DecisionTreeRegressor\n",
    "from sklearn.metrics import make_scorer, mean_squared_error\n",
    "from sklearn.decomposition import PCA\n",
    "\n",
    "from xgboost import XGBRegressor\n",
    "from catboost import CatBoostRegressor\n",
    "from lightgbm import LGBMRegressor\n",
    "\n",
    "import optuna\n",
    "\n",
    "import json\n",
    "import pickle\n",
    "import os"
   ]
  },
  {
   "cell_type": "markdown",
   "metadata": {},
   "source": [
    "### 1. Basic Data Cleaning"
   ]
  },
  {
   "cell_type": "code",
   "execution_count": 295,
   "metadata": {},
   "outputs": [],
   "source": [
    "# Import the data from the CSV\n",
    "raw_car_data = pd.read_csv('data/all_car_adverts.csv', index_col=0)"
   ]
  },
  {
   "cell_type": "code",
   "execution_count": 296,
   "metadata": {},
   "outputs": [
    {
     "data": {
      "text/html": [
       "<div>\n",
       "<style scoped>\n",
       "    .dataframe tbody tr th:only-of-type {\n",
       "        vertical-align: middle;\n",
       "    }\n",
       "\n",
       "    .dataframe tbody tr th {\n",
       "        vertical-align: top;\n",
       "    }\n",
       "\n",
       "    .dataframe thead th {\n",
       "        text-align: right;\n",
       "    }\n",
       "</style>\n",
       "<table border=\"1\" class=\"dataframe\">\n",
       "  <thead>\n",
       "    <tr style=\"text-align: right;\">\n",
       "      <th></th>\n",
       "      <th>make</th>\n",
       "      <th>model</th>\n",
       "      <th>variant</th>\n",
       "      <th>car_price</th>\n",
       "      <th>car_badges</th>\n",
       "      <th>car_title</th>\n",
       "      <th>car_sub_title</th>\n",
       "      <th>car_attention_grabber</th>\n",
       "      <th>car_specs</th>\n",
       "      <th>car_seller</th>\n",
       "      <th>car_seller_rating</th>\n",
       "      <th>car_seller_location</th>\n",
       "      <th>year</th>\n",
       "      <th>reg</th>\n",
       "      <th>body_type</th>\n",
       "      <th>miles</th>\n",
       "      <th>engine_vol</th>\n",
       "      <th>engine_size</th>\n",
       "      <th>engine_size_unit</th>\n",
       "      <th>transmission</th>\n",
       "      <th>feul_type</th>\n",
       "      <th>num_owner</th>\n",
       "      <th>ulez</th>\n",
       "      <th>full_service</th>\n",
       "      <th>part_service</th>\n",
       "      <th>part_warranty</th>\n",
       "      <th>full_dealership</th>\n",
       "      <th>first_year_road_tax</th>\n",
       "      <th>brand_new</th>\n",
       "      <th>finance_available</th>\n",
       "      <th>discounted</th>\n",
       "    </tr>\n",
       "  </thead>\n",
       "  <tbody>\n",
       "    <tr>\n",
       "      <th>0</th>\n",
       "      <td>AC</td>\n",
       "      <td>Cobra</td>\n",
       "      <td>NaN</td>\n",
       "      <td>89995.0</td>\n",
       "      <td>NaN</td>\n",
       "      <td>AC Cobra</td>\n",
       "      <td>4.9 MK IV CRS 2dr</td>\n",
       "      <td>GENUINE AC COBRA CRS 522 BHP</td>\n",
       "      <td>2001 (X reg), Convertible, 14,400 miles, 4.9L,...</td>\n",
       "      <td>Private seller</td>\n",
       "      <td>NaN</td>\n",
       "      <td>watford</td>\n",
       "      <td>2001</td>\n",
       "      <td>X reg</td>\n",
       "      <td>convertible</td>\n",
       "      <td>14400.0</td>\n",
       "      <td>4.9</td>\n",
       "      <td>225.0</td>\n",
       "      <td>bhp</td>\n",
       "      <td>manual</td>\n",
       "      <td>petrol</td>\n",
       "      <td>5.0</td>\n",
       "      <td>0</td>\n",
       "      <td>0</td>\n",
       "      <td>0</td>\n",
       "      <td>0</td>\n",
       "      <td>0</td>\n",
       "      <td>0</td>\n",
       "      <td>0</td>\n",
       "      <td>0</td>\n",
       "      <td>0</td>\n",
       "    </tr>\n",
       "    <tr>\n",
       "      <th>1</th>\n",
       "      <td>AC</td>\n",
       "      <td>Cobra</td>\n",
       "      <td>NaN</td>\n",
       "      <td>92500.0</td>\n",
       "      <td>''</td>\n",
       "      <td>AC Cobra</td>\n",
       "      <td>378 - MkIV</td>\n",
       "      <td>PHYSICAL CAR!</td>\n",
       "      <td>2019 (T reg), Convertible, 650 miles, Manual, ...</td>\n",
       "      <td>Boss Motor Company Limited</td>\n",
       "      <td>5.0</td>\n",
       "      <td>chesham</td>\n",
       "      <td>2019</td>\n",
       "      <td>T reg</td>\n",
       "      <td>convertible</td>\n",
       "      <td>650.0</td>\n",
       "      <td>NaN</td>\n",
       "      <td>NaN</td>\n",
       "      <td>NaN</td>\n",
       "      <td>manual</td>\n",
       "      <td>petrol</td>\n",
       "      <td>NaN</td>\n",
       "      <td>0</td>\n",
       "      <td>0</td>\n",
       "      <td>0</td>\n",
       "      <td>0</td>\n",
       "      <td>0</td>\n",
       "      <td>0</td>\n",
       "      <td>0</td>\n",
       "      <td>0</td>\n",
       "      <td>0</td>\n",
       "    </tr>\n",
       "    <tr>\n",
       "      <th>2</th>\n",
       "      <td>AC</td>\n",
       "      <td>Cobra</td>\n",
       "      <td>NaN</td>\n",
       "      <td>109995.0</td>\n",
       "      <td>''</td>\n",
       "      <td>AC Cobra</td>\n",
       "      <td>MK1V 212 SC. 3.5 V8 350 BHP LOTUS TWIN TURBO. ...</td>\n",
       "      <td>FULL CARBON FIBRE BODY.</td>\n",
       "      <td>2000 (X reg), Convertible, 21,600 miles, 3.5L,...</td>\n",
       "      <td>PREMIER GT LIMITED</td>\n",
       "      <td>4.8</td>\n",
       "      <td>pulborough</td>\n",
       "      <td>2000</td>\n",
       "      <td>X reg</td>\n",
       "      <td>convertible</td>\n",
       "      <td>21600.0</td>\n",
       "      <td>3.5</td>\n",
       "      <td>NaN</td>\n",
       "      <td>NaN</td>\n",
       "      <td>manual</td>\n",
       "      <td>petrol</td>\n",
       "      <td>3.0</td>\n",
       "      <td>0</td>\n",
       "      <td>0</td>\n",
       "      <td>0</td>\n",
       "      <td>0</td>\n",
       "      <td>0</td>\n",
       "      <td>0</td>\n",
       "      <td>0</td>\n",
       "      <td>0</td>\n",
       "      <td>0</td>\n",
       "    </tr>\n",
       "    <tr>\n",
       "      <th>3</th>\n",
       "      <td>AC</td>\n",
       "      <td>Cobra</td>\n",
       "      <td>NaN</td>\n",
       "      <td>124950.0</td>\n",
       "      <td>''</td>\n",
       "      <td>AC Cobra</td>\n",
       "      <td>302 MKIV 2dr</td>\n",
       "      <td>ABSOLUTELY STUNNING</td>\n",
       "      <td>1989 (F reg), Convertible, 2,750 miles, Manual...</td>\n",
       "      <td>TOP 555 LIMITED</td>\n",
       "      <td>5.0</td>\n",
       "      <td>oakham</td>\n",
       "      <td>1989</td>\n",
       "      <td>F reg</td>\n",
       "      <td>convertible</td>\n",
       "      <td>2750.0</td>\n",
       "      <td>NaN</td>\n",
       "      <td>NaN</td>\n",
       "      <td>NaN</td>\n",
       "      <td>manual</td>\n",
       "      <td>petrol</td>\n",
       "      <td>NaN</td>\n",
       "      <td>0</td>\n",
       "      <td>0</td>\n",
       "      <td>0</td>\n",
       "      <td>0</td>\n",
       "      <td>0</td>\n",
       "      <td>0</td>\n",
       "      <td>0</td>\n",
       "      <td>0</td>\n",
       "      <td>0</td>\n",
       "    </tr>\n",
       "    <tr>\n",
       "      <th>4</th>\n",
       "      <td>AC</td>\n",
       "      <td>Cobra</td>\n",
       "      <td>NaN</td>\n",
       "      <td>124950.0</td>\n",
       "      <td>''</td>\n",
       "      <td>AC Cobra</td>\n",
       "      <td>302 MKIV With Factory Lightweight Engine 5.0 2dr</td>\n",
       "      <td>'STAGE 3' SVO ENGINE</td>\n",
       "      <td>1989 (E reg), Convertible, 15,142 miles, 5.0L,...</td>\n",
       "      <td>TOP 555 LIMITED</td>\n",
       "      <td>5.0</td>\n",
       "      <td>oakham</td>\n",
       "      <td>1989</td>\n",
       "      <td>E reg</td>\n",
       "      <td>convertible</td>\n",
       "      <td>15142.0</td>\n",
       "      <td>5.0</td>\n",
       "      <td>NaN</td>\n",
       "      <td>NaN</td>\n",
       "      <td>manual</td>\n",
       "      <td>petrol</td>\n",
       "      <td>NaN</td>\n",
       "      <td>0</td>\n",
       "      <td>0</td>\n",
       "      <td>0</td>\n",
       "      <td>0</td>\n",
       "      <td>0</td>\n",
       "      <td>0</td>\n",
       "      <td>0</td>\n",
       "      <td>0</td>\n",
       "      <td>0</td>\n",
       "    </tr>\n",
       "  </tbody>\n",
       "</table>\n",
       "</div>"
      ],
      "text/plain": [
       "  make  model variant  car_price car_badges car_title  \\\n",
       "0   AC  Cobra     NaN    89995.0        NaN  AC Cobra   \n",
       "1   AC  Cobra     NaN    92500.0         ''  AC Cobra   \n",
       "2   AC  Cobra     NaN   109995.0         ''  AC Cobra   \n",
       "3   AC  Cobra     NaN   124950.0         ''  AC Cobra   \n",
       "4   AC  Cobra     NaN   124950.0         ''  AC Cobra   \n",
       "\n",
       "                                       car_sub_title  \\\n",
       "0                                  4.9 MK IV CRS 2dr   \n",
       "1                                         378 - MkIV   \n",
       "2  MK1V 212 SC. 3.5 V8 350 BHP LOTUS TWIN TURBO. ...   \n",
       "3                                       302 MKIV 2dr   \n",
       "4   302 MKIV With Factory Lightweight Engine 5.0 2dr   \n",
       "\n",
       "          car_attention_grabber  \\\n",
       "0  GENUINE AC COBRA CRS 522 BHP   \n",
       "1                 PHYSICAL CAR!   \n",
       "2       FULL CARBON FIBRE BODY.   \n",
       "3           ABSOLUTELY STUNNING   \n",
       "4          'STAGE 3' SVO ENGINE   \n",
       "\n",
       "                                           car_specs  \\\n",
       "0  2001 (X reg), Convertible, 14,400 miles, 4.9L,...   \n",
       "1  2019 (T reg), Convertible, 650 miles, Manual, ...   \n",
       "2  2000 (X reg), Convertible, 21,600 miles, 3.5L,...   \n",
       "3  1989 (F reg), Convertible, 2,750 miles, Manual...   \n",
       "4  1989 (E reg), Convertible, 15,142 miles, 5.0L,...   \n",
       "\n",
       "                   car_seller  car_seller_rating car_seller_location  year  \\\n",
       "0              Private seller                NaN             watford  2001   \n",
       "1  Boss Motor Company Limited                5.0             chesham  2019   \n",
       "2          PREMIER GT LIMITED                4.8          pulborough  2000   \n",
       "3             TOP 555 LIMITED                5.0              oakham  1989   \n",
       "4             TOP 555 LIMITED                5.0              oakham  1989   \n",
       "\n",
       "     reg    body_type    miles  engine_vol  engine_size engine_size_unit  \\\n",
       "0  X reg  convertible  14400.0         4.9        225.0              bhp   \n",
       "1  T reg  convertible    650.0         NaN          NaN              NaN   \n",
       "2  X reg  convertible  21600.0         3.5          NaN              NaN   \n",
       "3  F reg  convertible   2750.0         NaN          NaN              NaN   \n",
       "4  E reg  convertible  15142.0         5.0          NaN              NaN   \n",
       "\n",
       "  transmission feul_type  num_owner  ulez  full_service  part_service  \\\n",
       "0       manual    petrol        5.0     0             0             0   \n",
       "1       manual    petrol        NaN     0             0             0   \n",
       "2       manual    petrol        3.0     0             0             0   \n",
       "3       manual    petrol        NaN     0             0             0   \n",
       "4       manual    petrol        NaN     0             0             0   \n",
       "\n",
       "   part_warranty  full_dealership  first_year_road_tax  brand_new  \\\n",
       "0              0                0                    0          0   \n",
       "1              0                0                    0          0   \n",
       "2              0                0                    0          0   \n",
       "3              0                0                    0          0   \n",
       "4              0                0                    0          0   \n",
       "\n",
       "   finance_available  discounted  \n",
       "0                  0           0  \n",
       "1                  0           0  \n",
       "2                  0           0  \n",
       "3                  0           0  \n",
       "4                  0           0  "
      ]
     },
     "execution_count": 296,
     "metadata": {},
     "output_type": "execute_result"
    }
   ],
   "source": [
    "# Display head of the df\n",
    "pd.set_option('display.max_columns', None)\n",
    "raw_car_data.head()"
   ]
  },
  {
   "cell_type": "markdown",
   "metadata": {},
   "source": [
    "We currently have a 'car_seller' feature, that includes the name of the seller or 'Private seller' if it represents a private sale. We're not interested in seller specific data, so for now, we'll create a new feature called 'private_sale' which will = 1 if it's a private sale, and 0 if not."
   ]
  },
  {
   "cell_type": "code",
   "execution_count": 297,
   "metadata": {},
   "outputs": [],
   "source": [
    "# Create the new feature 'private_sale'\n",
    "raw_car_data['private_sale'] = raw_car_data['car_seller'].apply(lambda x: 1 if x == 'Private seller' else 0)"
   ]
  },
  {
   "cell_type": "markdown",
   "metadata": {},
   "source": [
    "Let's look at the distribution for car prices."
   ]
  },
  {
   "cell_type": "code",
   "execution_count": 298,
   "metadata": {},
   "outputs": [
    {
     "data": {
      "text/plain": [
       "<Axes: xlabel='car_price', ylabel='Count'>"
      ]
     },
     "execution_count": 298,
     "metadata": {},
     "output_type": "execute_result"
    },
    {
     "data": {
      "image/png": "[encoded data removed]",
      "text/plain": [
       "<Figure size 640x480 with 1 Axes>"
      ]
     },
     "metadata": {},
     "output_type": "display_data"
    }
   ],
   "source": [
    "# Plot price distribution\n",
    "sns.histplot(raw_car_data['car_price'], bins=25, kde=True)"
   ]
  },
  {
   "cell_type": "markdown",
   "metadata": {},
   "source": [
    "We can see we have a very heavy right skew. We can likely reduce this with feature engineering later, by doing something like a log transform. However, outliers at the higher end of the price values may still reduce the accuracy of the model. Let's remove outliers at the higher and lower end of price values using a simple percentile approach."
   ]
  },
  {
   "cell_type": "code",
   "execution_count": 299,
   "metadata": {},
   "outputs": [],
   "source": [
    "# Define upper and lower percentiles (1% and 99%)\n",
    "lower_percentile = raw_car_data['car_price'].quantile(0.01)\n",
    "upper_percentile = raw_car_data['car_price'].quantile(0.99)\n",
    "\n",
    "# Filter the DataFrame to remove outliers based on precentiles\n",
    "raw_car_data = raw_car_data[(raw_car_data['car_price'] >= lower_percentile) & (raw_car_data['car_price'] <= upper_percentile)]"
   ]
  },
  {
   "cell_type": "markdown",
   "metadata": {},
   "source": [
    "We have several features that will not help the performance of the model. This includes features like 'car_attention_gabber' - a headline for the advert that can take any text string value. Let's drop these features, including 'car_seller' now that we have the 'private_sale' feature."
   ]
  },
  {
   "cell_type": "code",
   "execution_count": 300,
   "metadata": {},
   "outputs": [],
   "source": [
    "# Define columns to drop\n",
    "columns_to_drop = ['car_badges',\n",
    "                   'car_title',\n",
    "                   'car_sub_title',\n",
    "                   'car_attention_grabber',\n",
    "                   'car_specs',\n",
    "                   'car_seller',\n",
    "                   'car_seller_rating',\n",
    "                   'car_seller_location',\n",
    "                   'reg',\n",
    "                   'part_warranty',\n",
    "                   'full_dealership',\n",
    "                   'first_year_road_tax',\n",
    "                   'brand_new',\n",
    "                   'finance_available',\n",
    "                   'discounted'\n",
    "                   ]\n",
    "\n",
    "cleaned_data = raw_car_data.drop(columns=columns_to_drop)"
   ]
  },
  {
   "cell_type": "markdown",
   "metadata": {},
   "source": [
    "Engine power is defined in 2 different units: BHP and PS. We want to standardise this for the model. Let's create a new feature that converts any values provided in PS to BHP, based on the unit defined in 'engine_size_unit'."
   ]
  },
  {
   "cell_type": "code",
   "execution_count": 301,
   "metadata": {},
   "outputs": [],
   "source": [
    "# Conversion factor from PS to BHP\n",
    "ps_to_bhp = 1 / 1.01387\n",
    "\n",
    "# Create the new feature 'engine_power' and round to nearest integer\n",
    "cleaned_data['engine_power'] = cleaned_data.apply(\n",
    "    lambda row: round(row['engine_size'] * ps_to_bhp) if row['engine_size_unit'] == 'ps' else row['engine_size'],\n",
    "    axis=1\n",
    ")\n",
    "\n",
    "# Drop the old power features\n",
    "old_power_cols = ['engine_size',\n",
    "                  'engine_size_unit',\n",
    "                  ]\n",
    "\n",
    "cleaned_data.drop(columns=old_power_cols, inplace=True)"
   ]
  },
  {
   "cell_type": "markdown",
   "metadata": {},
   "source": [
    "Some of the year values are non-numeric, so we need to identify these records and drop them. Then create a new featured called age based of the current year. Then we can drop the year feature."
   ]
  },
  {
   "cell_type": "code",
   "execution_count": 302,
   "metadata": {},
   "outputs": [],
   "source": [
    "# Convert 'year' to numeric values, setting errors to 'coerce' which will replace non-numeric values with NaN\n",
    "cleaned_data['year'] = pd.to_numeric(cleaned_data['year'], errors='coerce')\n",
    "\n",
    "# Drop rows with NaN values in 'year' column\n",
    "cleaned_data = cleaned_data.dropna(subset=['year'])\n",
    "\n",
    "# Convert 'year' back to integers\n",
    "cleaned_data.loc[:, 'year'] = cleaned_data['year'].astype(int)\n",
    "\n",
    "# Calculate the age\n",
    "cleaned_data['age'] = 2024 - cleaned_data['year']\n",
    "\n",
    "# Drop year column\n",
    "cleaned_data.drop(columns='year', inplace=True)"
   ]
  },
  {
   "cell_type": "markdown",
   "metadata": {},
   "source": [
    "Now let's just correct the typo for feul_type."
   ]
  },
  {
   "cell_type": "code",
   "execution_count": 303,
   "metadata": {},
   "outputs": [],
   "source": [
    "cleaned_data.rename(columns={'feul_type': 'fuel_type'}, inplace=True)"
   ]
  },
  {
   "cell_type": "markdown",
   "metadata": {},
   "source": [
    "Let's take a look at the dataframe after cleaning:"
   ]
  },
  {
   "cell_type": "code",
   "execution_count": 304,
   "metadata": {},
   "outputs": [
    {
     "data": {
      "text/html": [
       "<div>\n",
       "<style scoped>\n",
       "    .dataframe tbody tr th:only-of-type {\n",
       "        vertical-align: middle;\n",
       "    }\n",
       "\n",
       "    .dataframe tbody tr th {\n",
       "        vertical-align: top;\n",
       "    }\n",
       "\n",
       "    .dataframe thead th {\n",
       "        text-align: right;\n",
       "    }\n",
       "</style>\n",
       "<table border=\"1\" class=\"dataframe\">\n",
       "  <thead>\n",
       "    <tr style=\"text-align: right;\">\n",
       "      <th></th>\n",
       "      <th>make</th>\n",
       "      <th>model</th>\n",
       "      <th>variant</th>\n",
       "      <th>car_price</th>\n",
       "      <th>body_type</th>\n",
       "      <th>miles</th>\n",
       "      <th>engine_vol</th>\n",
       "      <th>transmission</th>\n",
       "      <th>fuel_type</th>\n",
       "      <th>num_owner</th>\n",
       "      <th>ulez</th>\n",
       "      <th>full_service</th>\n",
       "      <th>part_service</th>\n",
       "      <th>private_sale</th>\n",
       "      <th>engine_power</th>\n",
       "      <th>age</th>\n",
       "    </tr>\n",
       "  </thead>\n",
       "  <tbody>\n",
       "    <tr>\n",
       "      <th>0</th>\n",
       "      <td>AC</td>\n",
       "      <td>Cobra</td>\n",
       "      <td>NaN</td>\n",
       "      <td>89995.0</td>\n",
       "      <td>convertible</td>\n",
       "      <td>14400.0</td>\n",
       "      <td>4.9</td>\n",
       "      <td>manual</td>\n",
       "      <td>petrol</td>\n",
       "      <td>5.0</td>\n",
       "      <td>0</td>\n",
       "      <td>0</td>\n",
       "      <td>0</td>\n",
       "      <td>1</td>\n",
       "      <td>225.0</td>\n",
       "      <td>23.0</td>\n",
       "    </tr>\n",
       "    <tr>\n",
       "      <th>1</th>\n",
       "      <td>AC</td>\n",
       "      <td>Cobra</td>\n",
       "      <td>NaN</td>\n",
       "      <td>92500.0</td>\n",
       "      <td>convertible</td>\n",
       "      <td>650.0</td>\n",
       "      <td>NaN</td>\n",
       "      <td>manual</td>\n",
       "      <td>petrol</td>\n",
       "      <td>NaN</td>\n",
       "      <td>0</td>\n",
       "      <td>0</td>\n",
       "      <td>0</td>\n",
       "      <td>0</td>\n",
       "      <td>NaN</td>\n",
       "      <td>5.0</td>\n",
       "    </tr>\n",
       "    <tr>\n",
       "      <th>7</th>\n",
       "      <td>AC</td>\n",
       "      <td>NaN</td>\n",
       "      <td>MK IV CRS</td>\n",
       "      <td>89995.0</td>\n",
       "      <td>convertible</td>\n",
       "      <td>14400.0</td>\n",
       "      <td>4.9</td>\n",
       "      <td>manual</td>\n",
       "      <td>petrol</td>\n",
       "      <td>5.0</td>\n",
       "      <td>0</td>\n",
       "      <td>0</td>\n",
       "      <td>0</td>\n",
       "      <td>1</td>\n",
       "      <td>225.0</td>\n",
       "      <td>23.0</td>\n",
       "    </tr>\n",
       "    <tr>\n",
       "      <th>8</th>\n",
       "      <td>Abarth</td>\n",
       "      <td>124 Spider</td>\n",
       "      <td>GT</td>\n",
       "      <td>24275.0</td>\n",
       "      <td>convertible</td>\n",
       "      <td>10313.0</td>\n",
       "      <td>1.4</td>\n",
       "      <td>automatic</td>\n",
       "      <td>petrol</td>\n",
       "      <td>2.0</td>\n",
       "      <td>1</td>\n",
       "      <td>0</td>\n",
       "      <td>0</td>\n",
       "      <td>0</td>\n",
       "      <td>167.0</td>\n",
       "      <td>5.0</td>\n",
       "    </tr>\n",
       "    <tr>\n",
       "      <th>9</th>\n",
       "      <td>Abarth</td>\n",
       "      <td>124 Spider</td>\n",
       "      <td>GT</td>\n",
       "      <td>24275.0</td>\n",
       "      <td>convertible</td>\n",
       "      <td>10313.0</td>\n",
       "      <td>1.4</td>\n",
       "      <td>automatic</td>\n",
       "      <td>petrol</td>\n",
       "      <td>2.0</td>\n",
       "      <td>1</td>\n",
       "      <td>0</td>\n",
       "      <td>0</td>\n",
       "      <td>0</td>\n",
       "      <td>167.0</td>\n",
       "      <td>5.0</td>\n",
       "    </tr>\n",
       "  </tbody>\n",
       "</table>\n",
       "</div>"
      ],
      "text/plain": [
       "     make       model    variant  car_price    body_type    miles  engine_vol  \\\n",
       "0      AC       Cobra        NaN    89995.0  convertible  14400.0         4.9   \n",
       "1      AC       Cobra        NaN    92500.0  convertible    650.0         NaN   \n",
       "7      AC         NaN  MK IV CRS    89995.0  convertible  14400.0         4.9   \n",
       "8  Abarth  124 Spider         GT    24275.0  convertible  10313.0         1.4   \n",
       "9  Abarth  124 Spider         GT    24275.0  convertible  10313.0         1.4   \n",
       "\n",
       "  transmission fuel_type  num_owner  ulez  full_service  part_service  \\\n",
       "0       manual    petrol        5.0     0             0             0   \n",
       "1       manual    petrol        NaN     0             0             0   \n",
       "7       manual    petrol        5.0     0             0             0   \n",
       "8    automatic    petrol        2.0     1             0             0   \n",
       "9    automatic    petrol        2.0     1             0             0   \n",
       "\n",
       "   private_sale  engine_power   age  \n",
       "0             1         225.0  23.0  \n",
       "1             0           NaN   5.0  \n",
       "7             1         225.0  23.0  \n",
       "8             0         167.0   5.0  \n",
       "9             0         167.0   5.0  "
      ]
     },
     "execution_count": 304,
     "metadata": {},
     "output_type": "execute_result"
    }
   ],
   "source": [
    "cleaned_data.head()"
   ]
  },
  {
   "cell_type": "code",
   "execution_count": 305,
   "metadata": {},
   "outputs": [
    {
     "name": "stdout",
     "output_type": "stream",
     "text": [
      "<class 'pandas.core.frame.DataFrame'>\n",
      "Index: 754910 entries, 0 to 818455\n",
      "Data columns (total 16 columns):\n",
      " #   Column        Non-Null Count   Dtype  \n",
      "---  ------        --------------   -----  \n",
      " 0   make          754910 non-null  object \n",
      " 1   model         754666 non-null  object \n",
      " 2   variant       752901 non-null  object \n",
      " 3   car_price     754910 non-null  float64\n",
      " 4   body_type     754238 non-null  object \n",
      " 5   miles         748222 non-null  float64\n",
      " 6   engine_vol    743587 non-null  float64\n",
      " 7   transmission  754738 non-null  object \n",
      " 8   fuel_type     754749 non-null  object \n",
      " 9   num_owner     433229 non-null  float64\n",
      " 10  ulez          754910 non-null  int64  \n",
      " 11  full_service  754910 non-null  int64  \n",
      " 12  part_service  754910 non-null  int64  \n",
      " 13  private_sale  754910 non-null  int64  \n",
      " 14  engine_power  751387 non-null  float64\n",
      " 15  age           754910 non-null  float64\n",
      "dtypes: float64(6), int64(4), object(6)\n",
      "memory usage: 97.9+ MB\n"
     ]
    }
   ],
   "source": [
    "cleaned_data.info()"
   ]
  },
  {
   "cell_type": "markdown",
   "metadata": {},
   "source": [
    "This is looking better, but we still need to deal with missing values."
   ]
  },
  {
   "cell_type": "markdown",
   "metadata": {},
   "source": [
    "### 2. Handling Missing Values"
   ]
  },
  {
   "cell_type": "markdown",
   "metadata": {},
   "source": [
    "Let's first check how many values are missing by feature."
   ]
  },
  {
   "cell_type": "code",
   "execution_count": 306,
   "metadata": {},
   "outputs": [
    {
     "data": {
      "text/plain": [
       "make                 0\n",
       "model              244\n",
       "variant           2009\n",
       "car_price            0\n",
       "body_type          672\n",
       "miles             6688\n",
       "engine_vol       11323\n",
       "transmission       172\n",
       "fuel_type          161\n",
       "num_owner       321681\n",
       "ulez                 0\n",
       "full_service         0\n",
       "part_service         0\n",
       "private_sale         0\n",
       "engine_power      3523\n",
       "age                  0\n",
       "dtype: int64"
      ]
     },
     "execution_count": 306,
     "metadata": {},
     "output_type": "execute_result"
    }
   ],
   "source": [
    "cleaned_data.isnull().sum()"
   ]
  },
  {
   "cell_type": "markdown",
   "metadata": {},
   "source": [
    "Initial observations:\n",
    "1. Nearly 40% of the data has no value for number of previous owners, so we'll drop this\n",
    "2. Not all vehicles have a variant, so for those with missing values, we'll set variant = None\n",
    "3. For records without a value for model, we'll drop, as this is very significant but we only have 303 of them\n",
    "4. As mileage will likely be critical for predictions, we'll drop any records without a value for this feature\n"
   ]
  },
  {
   "cell_type": "code",
   "execution_count": 307,
   "metadata": {},
   "outputs": [],
   "source": [
    "# Create copy of raw data\n",
    "cleaned_data_missing = cleaned_data.copy()\n",
    "\n",
    "# Drop records with no mileage\n",
    "cleaned_data_missing = cleaned_data_missing.dropna(subset='miles')\n",
    "\n",
    "# Fill null variant values with 'None'\n",
    "cleaned_data_missing['variant'] = cleaned_data_missing['variant'].fillna('None')\n",
    "\n",
    "# Drop number of previous owners\n",
    "cleaned_data_missing = cleaned_data_missing.drop(columns='num_owner')\n",
    "\n",
    "# Drop records with null values for 'model'\n",
    "cleaned_data_missing = cleaned_data_missing.dropna(subset=['model'])"
   ]
  },
  {
   "cell_type": "markdown",
   "metadata": {},
   "source": [
    "We can now check missing values again."
   ]
  },
  {
   "cell_type": "code",
   "execution_count": 308,
   "metadata": {},
   "outputs": [
    {
     "data": {
      "text/plain": [
       "make                0\n",
       "model               0\n",
       "variant             0\n",
       "car_price           0\n",
       "body_type         641\n",
       "miles               0\n",
       "engine_vol      10954\n",
       "transmission      165\n",
       "fuel_type         156\n",
       "ulez                0\n",
       "full_service        0\n",
       "part_service        0\n",
       "private_sale        0\n",
       "engine_power     3463\n",
       "age                 0\n",
       "dtype: int64"
      ]
     },
     "execution_count": 308,
     "metadata": {},
     "output_type": "execute_result"
    }
   ],
   "source": [
    "cleaned_data_missing.isnull().sum()"
   ]
  },
  {
   "cell_type": "markdown",
   "metadata": {},
   "source": [
    "We can see we still have features with siginficant missing value counts. Most of these are vehicle specifications, that have likely not been including in the advert, but are standard across vehicle of the same Make, Model and Age. For this reason, we can impute these spec values (engine_vol, engine_power, 'body_type', 'transmission', and 'fuel_type) by grouping all records where these values do exist for a give combination of make, model, variant and year, and taking the mode (most frequent)."
   ]
  },
  {
   "cell_type": "code",
   "execution_count": 309,
   "metadata": {},
   "outputs": [
    {
     "name": "stderr",
     "output_type": "stream",
     "text": [
      "/var/folders/7y/311sp_hx0cd0mpz76xxlrr540000gn/T/ipykernel_16033/1419409344.py:4: FutureWarning: Downcasting object dtype arrays on .fillna, .ffill, .bfill is deprecated and will change in a future version. Call result.infer_objects(copy=False) instead. To opt-in to the future behavior, set `pd.set_option('future.no_silent_downcasting', True)`\n",
      "  df[col] = df.groupby(group_cols)[col].transform(lambda x: x.fillna(x.mode().iloc[0] if not x.mode().empty else x))\n",
      "/var/folders/7y/311sp_hx0cd0mpz76xxlrr540000gn/T/ipykernel_16033/1419409344.py:4: FutureWarning: Downcasting object dtype arrays on .fillna, .ffill, .bfill is deprecated and will change in a future version. Call result.infer_objects(copy=False) instead. To opt-in to the future behavior, set `pd.set_option('future.no_silent_downcasting', True)`\n",
      "  df[col] = df.groupby(group_cols)[col].transform(lambda x: x.fillna(x.mode().iloc[0] if not x.mode().empty else x))\n",
      "/var/folders/7y/311sp_hx0cd0mpz76xxlrr540000gn/T/ipykernel_16033/1419409344.py:4: FutureWarning: Downcasting object dtype arrays on .fillna, .ffill, .bfill is deprecated and will change in a future version. Call result.infer_objects(copy=False) instead. To opt-in to the future behavior, set `pd.set_option('future.no_silent_downcasting', True)`\n",
      "  df[col] = df.groupby(group_cols)[col].transform(lambda x: x.fillna(x.mode().iloc[0] if not x.mode().empty else x))\n"
     ]
    }
   ],
   "source": [
    "# Function to impute missing values within groups for multiple columns using transform\n",
    "def impute_missing_spec_values(df, group_cols, target_cols):\n",
    "    for col in target_cols:\n",
    "        df[col] = df.groupby(group_cols)[col].transform(lambda x: x.fillna(x.mode().iloc[0] if not x.mode().empty else x))\n",
    "    return df\n",
    "\n",
    "# Columns to impute\n",
    "target_columns = ['engine_vol', 'engine_power', 'body_type', 'transmission', 'fuel_type']\n",
    "\n",
    "# Impute missing values for the target columns\n",
    "imputed_car_data = impute_missing_spec_values(cleaned_data_missing, ['make', 'model', 'variant', 'age'], target_columns)"
   ]
  },
  {
   "cell_type": "markdown",
   "metadata": {},
   "source": [
    "Now let's check the number of missing values again."
   ]
  },
  {
   "cell_type": "code",
   "execution_count": 310,
   "metadata": {},
   "outputs": [
    {
     "data": {
      "text/plain": [
       "make               0\n",
       "model              0\n",
       "variant            0\n",
       "car_price          0\n",
       "body_type        108\n",
       "miles              0\n",
       "engine_vol      9349\n",
       "transmission      69\n",
       "fuel_type         65\n",
       "ulez               0\n",
       "full_service       0\n",
       "part_service       0\n",
       "private_sale       0\n",
       "engine_power    1691\n",
       "age                0\n",
       "dtype: int64"
      ]
     },
     "execution_count": 310,
     "metadata": {},
     "output_type": "execute_result"
    }
   ],
   "source": [
    "imputed_car_data.isnull().sum()"
   ]
  },
  {
   "cell_type": "markdown",
   "metadata": {},
   "source": [
    "Great, we've significantly reduced the number of missing values. We'll now have to drop any rows that still have missing values."
   ]
  },
  {
   "cell_type": "code",
   "execution_count": 311,
   "metadata": {},
   "outputs": [],
   "source": [
    "imputed_car_data = imputed_car_data.dropna()"
   ]
  },
  {
   "cell_type": "markdown",
   "metadata": {},
   "source": [
    "Let's double check there are no more missing values:"
   ]
  },
  {
   "cell_type": "code",
   "execution_count": 312,
   "metadata": {},
   "outputs": [
    {
     "data": {
      "text/plain": [
       "make            0\n",
       "model           0\n",
       "variant         0\n",
       "car_price       0\n",
       "body_type       0\n",
       "miles           0\n",
       "engine_vol      0\n",
       "transmission    0\n",
       "fuel_type       0\n",
       "ulez            0\n",
       "full_service    0\n",
       "part_service    0\n",
       "private_sale    0\n",
       "engine_power    0\n",
       "age             0\n",
       "dtype: int64"
      ]
     },
     "execution_count": 312,
     "metadata": {},
     "output_type": "execute_result"
    }
   ],
   "source": [
    "imputed_car_data.isnull().sum()"
   ]
  },
  {
   "cell_type": "markdown",
   "metadata": {},
   "source": [
    "### 3. Train/Test Split\n",
    "\n",
    "Now the data has been cleaned, let's create the train/test split."
   ]
  },
  {
   "cell_type": "code",
   "execution_count": 313,
   "metadata": {},
   "outputs": [],
   "source": [
    "# Create X and y sets\n",
    "X = imputed_car_data.copy()\n",
    "y = imputed_car_data['car_price']\n",
    "\n",
    "# Drop target feature from X\n",
    "X.drop(columns=['car_price'], inplace=True)\n",
    "\n",
    "# Create train/test split\n",
    "X_train, X_test, y_train, y_test = train_test_split(X, y, test_size=0.2, random_state=42)"
   ]
  },
  {
   "cell_type": "markdown",
   "metadata": {},
   "source": [
    "### 4. Feature Engineering\n",
    "\n",
    "Let's start by looking at the distributions of numerical features."
   ]
  },
  {
   "cell_type": "code",
   "execution_count": 314,
   "metadata": {},
   "outputs": [
    {
     "data": {
      "image/png": "[encoded data removed]",
      "text/plain": [
       "<Figure size 1600x400 with 4 Axes>"
      ]
     },
     "metadata": {},
     "output_type": "display_data"
    }
   ],
   "source": [
    "# Define numerical cols\n",
    "numerical_cols = ['miles', 'engine_vol', 'engine_power', 'age']\n",
    "\n",
    "# Melt the DataFrame to long format\n",
    "melted_X_train = X_train[numerical_cols].melt(var_name='Column', value_name='Value')\n",
    "\n",
    "# Create a FacetGrid\n",
    "g = sns.FacetGrid(melted_X_train, col='Column', col_wrap=4, sharex=False, sharey=False, height=4)\n",
    "\n",
    "# Map the sns.histplot to each facet\n",
    "g.map(sns.histplot, 'Value', bins=30)\n",
    "\n",
    "# Add titles and labels\n",
    "g.set_axis_labels('Value', 'Frequency')\n",
    "g.set_titles(col_template='{col_name}')\n",
    "\n",
    "plt.tight_layout()\n",
    "plt.show()"
   ]
  },
  {
   "cell_type": "markdown",
   "metadata": {},
   "source": [
    "We can see these all have a right skew. Let's try taking the square root of these values to see if we can make the distributions more symmetrical, as most ML algorithms prefer this."
   ]
  },
  {
   "cell_type": "code",
   "execution_count": 315,
   "metadata": {},
   "outputs": [],
   "source": [
    "# Define function to apply square root transform\n",
    "def sqrt_of_feature(data_df, skewed_features):\n",
    "    data = data_df.copy()\n",
    "    for feature in skewed_features:\n",
    "        data[feature] = np.sqrt(data[feature])\n",
    "    return data"
   ]
  },
  {
   "cell_type": "code",
   "execution_count": 316,
   "metadata": {},
   "outputs": [],
   "source": [
    "# Apply the function to X_train\n",
    "X_train_cleaned_sqrt = sqrt_of_feature(imputed_car_data, numerical_cols)"
   ]
  },
  {
   "cell_type": "code",
   "execution_count": 317,
   "metadata": {},
   "outputs": [
    {
     "data": {
      "image/png": "[encoded data removed]",
      "text/plain": [
       "<Figure size 1600x400 with 4 Axes>"
      ]
     },
     "metadata": {},
     "output_type": "display_data"
    }
   ],
   "source": [
    "# Plot the updated distributions\n",
    "melted_X_train = X_train_cleaned_sqrt[numerical_cols].melt(var_name='Column', value_name='Value')\n",
    "g = sns.FacetGrid(melted_X_train, col='Column', col_wrap=4, sharex=False, sharey=False, height=4)\n",
    "g.map(sns.histplot, 'Value', bins=30)\n",
    "g.set_axis_labels('Value', 'Frequency')\n",
    "g.set_titles(col_template='{col_name}')\n",
    "plt.tight_layout()\n",
    "plt.show()"
   ]
  },
  {
   "cell_type": "markdown",
   "metadata": {},
   "source": [
    "Good, these distributions are much closer to symmetrical.\n",
    "\n",
    "Let's now take a look at the target variable, price."
   ]
  },
  {
   "cell_type": "code",
   "execution_count": 318,
   "metadata": {},
   "outputs": [
    {
     "data": {
      "text/plain": [
       "<Axes: xlabel='car_price', ylabel='Count'>"
      ]
     },
     "execution_count": 318,
     "metadata": {},
     "output_type": "execute_result"
    },
    {
     "data": {
      "image/png": "[encoded data removed]",
      "text/plain": [
       "<Figure size 640x480 with 1 Axes>"
      ]
     },
     "metadata": {},
     "output_type": "display_data"
    }
   ],
   "source": [
    "sns.histplot(y_train, bins=30)"
   ]
  },
  {
   "cell_type": "markdown",
   "metadata": {},
   "source": [
    "We can see a right skew again. This looks to follow a power law, as the tail is long and thin, so let's try taking the log of the feature to make it more symmetrical."
   ]
  },
  {
   "cell_type": "code",
   "execution_count": 319,
   "metadata": {},
   "outputs": [],
   "source": [
    "# Define function to apply log transform\n",
    "def log_of_feature(data):\n",
    "    return np.log(data)"
   ]
  },
  {
   "cell_type": "code",
   "execution_count": 320,
   "metadata": {},
   "outputs": [],
   "source": [
    "# Apply the function to target feature\n",
    "y_train_log = log_of_feature(y_train)"
   ]
  },
  {
   "cell_type": "code",
   "execution_count": 321,
   "metadata": {},
   "outputs": [
    {
     "data": {
      "text/plain": [
       "<Axes: xlabel='car_price', ylabel='Count'>"
      ]
     },
     "execution_count": 321,
     "metadata": {},
     "output_type": "execute_result"
    },
    {
     "data": {
      "image/png": "[encoded data removed]",
      "text/plain": [
       "<Figure size 640x480 with 1 Axes>"
      ]
     },
     "metadata": {},
     "output_type": "display_data"
    }
   ],
   "source": [
    "sns.histplot(y_train_log, bins=30)"
   ]
  },
  {
   "cell_type": "markdown",
   "metadata": {},
   "source": [
    "Great, this looks much more symmetrical!"
   ]
  },
  {
   "cell_type": "markdown",
   "metadata": {},
   "source": [
    "### 5. Data Pipelines\n",
    "\n",
    "We now know how we want to preprocess the data for the model, so let's create a pipeline to automate this from now on.\n",
    "\n",
    "One transformation we haven't yet considered is how we'll deal with the categorical variables make, model and variant. These have thousands of unique values:"
   ]
  },
  {
   "cell_type": "code",
   "execution_count": 322,
   "metadata": {},
   "outputs": [
    {
     "name": "stdout",
     "output_type": "stream",
     "text": [
      "Make unique values: 80\n",
      "Model unique values: 919\n",
      "Variant unique values: 3205\n"
     ]
    }
   ],
   "source": [
    "print(f'Make unique values: {imputed_car_data['make'].nunique()}')\n",
    "print(f'Model unique values: {imputed_car_data['model'].nunique()}')\n",
    "print(f'Variant unique values: {imputed_car_data['variant'].nunique()}')"
   ]
  },
  {
   "cell_type": "markdown",
   "metadata": {},
   "source": [
    "Something like one-hot encoding wouldn't be effective here, as it will increase the feature space massively and make model training difficult. Instead, let's one-hot encode these feature, but then do a PCA on these features to reduce the feature space back down to a predefined number of features.\n",
    "\n",
    "We'll also scale the numerical features using standard scaler."
   ]
  },
  {
   "cell_type": "code",
   "execution_count": 327,
   "metadata": {},
   "outputs": [],
   "source": [
    "# Define binary features\n",
    "binary_features = ['transmission','ulez', 'full_service', 'part_service', 'private_sale']\n",
    "\n",
    "# Define one-hot/PCA features\n",
    "pca_features = ['make', 'model', 'variant']\n",
    "\n",
    "# Define one-hot features\n",
    "one_hot_features = ['body_type', 'fuel_type']\n",
    "\n",
    "# Define numeric features for scaling\n",
    "numeric_features = ['age','miles', 'engine_vol', 'engine_power']"
   ]
  },
  {
   "cell_type": "markdown",
   "metadata": {},
   "source": [
    "Now let's define the pipelines. First creating a custom transformer for the sqrt function of the numerical variables."
   ]
  },
  {
   "cell_type": "code",
   "execution_count": 338,
   "metadata": {},
   "outputs": [],
   "source": [
    "class SqrtTransformer(FunctionTransformer):\n",
    "    def __init__(self):\n",
    "        super().__init__(func=np.sqrt)\n",
    "\n",
    "    def fit(self, X, y=None):\n",
    "        # Fit method doesn't need to do anything specific for sqrt\n",
    "        return self\n",
    "\n",
    "    def transform(self, X):\n",
    "        # Apply the square root transformation\n",
    "        return super().transform(X)\n",
    "\n",
    "    def get_feature_names_out(self, input_features=None):\n",
    "        # Simply return the input feature names, as sqrt does not change them\n",
    "        if input_features is not None:\n",
    "            return input_features\n",
    "        else:\n",
    "            return np.array([])"
   ]
  },
  {
   "cell_type": "code",
   "execution_count": 458,
   "metadata": {},
   "outputs": [],
   "source": [
    "# Define numerical pipeline\n",
    "numerical_pipeline = Pipeline([\n",
    "    ('sqrt', SqrtTransformer()),\n",
    "    ('scaler', StandardScaler()),\n",
    "])\n",
    "\n",
    "# One-hot/PCA piepline\n",
    "pca_pipeline = Pipeline([\n",
    "    ('one_hot_encoder', OneHotEncoder(sparse_output=True, drop='first', handle_unknown='ignore')),\n",
    "    ('pca', PCA(n_components=10, svd_solver='arpack'))\n",
    "])\n",
    "\n",
    "# Define one-hot pipeline\n",
    "one_hot_pipeline = Pipeline([\n",
    "    ('one_hot_encoder', OneHotEncoder(sparse_output=True, drop='first'))\n",
    "])\n",
    "\n",
    "# Define binary pipeline\n",
    "binary_pipeline = Pipeline([\n",
    "    ('binary_encoder', OrdinalEncoder())\n",
    "])\n",
    "\n",
    "preprocess_pipeline = ColumnTransformer([\n",
    "    ('numerical', numerical_pipeline, numeric_features),\n",
    "    ('pca', pca_pipeline, pca_features),\n",
    "    ('one_hot', one_hot_pipeline, one_hot_features),\n",
    "    ('binary', binary_pipeline, binary_features)\n",
    "])"
   ]
  },
  {
   "cell_type": "markdown",
   "metadata": {},
   "source": [
    "We're now ready to use the pipeline to transform X_train."
   ]
  },
  {
   "cell_type": "code",
   "execution_count": 459,
   "metadata": {},
   "outputs": [],
   "source": [
    "# Transform X train using the pipeline\n",
    "X_train_prepared = preprocess_pipeline.fit_transform(X_train)"
   ]
  },
  {
   "cell_type": "markdown",
   "metadata": {},
   "source": [
    "Let's convert this back to a df so we can inspect the results:"
   ]
  },
  {
   "cell_type": "code",
   "execution_count": 341,
   "metadata": {},
   "outputs": [],
   "source": [
    "# Create df from process data\n",
    "X_train_prepared_df = pd.DataFrame(X_train_prepared)\n",
    "# Update column names\n",
    "X_train_prepared_df.columns = preprocess_pipeline.get_feature_names_out()"
   ]
  },
  {
   "cell_type": "code",
   "execution_count": 342,
   "metadata": {},
   "outputs": [
    {
     "data": {
      "text/html": [
       "<div>\n",
       "<style scoped>\n",
       "    .dataframe tbody tr th:only-of-type {\n",
       "        vertical-align: middle;\n",
       "    }\n",
       "\n",
       "    .dataframe tbody tr th {\n",
       "        vertical-align: top;\n",
       "    }\n",
       "\n",
       "    .dataframe thead th {\n",
       "        text-align: right;\n",
       "    }\n",
       "</style>\n",
       "<table border=\"1\" class=\"dataframe\">\n",
       "  <thead>\n",
       "    <tr style=\"text-align: right;\">\n",
       "      <th></th>\n",
       "      <th>numerical__age</th>\n",
       "      <th>numerical__miles</th>\n",
       "      <th>numerical__engine_vol</th>\n",
       "      <th>numerical__engine_power</th>\n",
       "      <th>pca__pca0</th>\n",
       "      <th>pca__pca1</th>\n",
       "      <th>pca__pca2</th>\n",
       "      <th>pca__pca3</th>\n",
       "      <th>pca__pca4</th>\n",
       "      <th>pca__pca5</th>\n",
       "      <th>pca__pca6</th>\n",
       "      <th>pca__pca7</th>\n",
       "      <th>pca__pca8</th>\n",
       "      <th>pca__pca9</th>\n",
       "      <th>one_hot__body_type_car derived van</th>\n",
       "      <th>one_hot__body_type_combi van</th>\n",
       "      <th>one_hot__body_type_convertible</th>\n",
       "      <th>one_hot__body_type_coupe</th>\n",
       "      <th>one_hot__body_type_estate</th>\n",
       "      <th>one_hot__body_type_hatchback</th>\n",
       "      <th>one_hot__body_type_limousine</th>\n",
       "      <th>one_hot__body_type_minibus</th>\n",
       "      <th>one_hot__body_type_mpv</th>\n",
       "      <th>one_hot__body_type_panel van</th>\n",
       "      <th>one_hot__body_type_pickup</th>\n",
       "      <th>one_hot__body_type_pickup double cab car</th>\n",
       "      <th>one_hot__body_type_saloon</th>\n",
       "      <th>one_hot__body_type_suv</th>\n",
       "      <th>one_hot__fuel_type_diesel</th>\n",
       "      <th>one_hot__fuel_type_diesel hybrid</th>\n",
       "      <th>one_hot__fuel_type_diesel plug-in hybrid</th>\n",
       "      <th>one_hot__fuel_type_electric</th>\n",
       "      <th>one_hot__fuel_type_petrol</th>\n",
       "      <th>one_hot__fuel_type_petrol hybrid</th>\n",
       "      <th>one_hot__fuel_type_petrol plug-in hybrid</th>\n",
       "      <th>binary__transmission</th>\n",
       "      <th>binary__ulez</th>\n",
       "      <th>binary__full_service</th>\n",
       "      <th>binary__part_service</th>\n",
       "      <th>binary__private_sale</th>\n",
       "    </tr>\n",
       "  </thead>\n",
       "  <tbody>\n",
       "    <tr>\n",
       "      <th>0</th>\n",
       "      <td>-1.438106</td>\n",
       "      <td>-1.291373</td>\n",
       "      <td>-1.401184</td>\n",
       "      <td>-1.271953</td>\n",
       "      <td>-0.178184</td>\n",
       "      <td>-0.195699</td>\n",
       "      <td>-0.386138</td>\n",
       "      <td>0.741084</td>\n",
       "      <td>-0.442653</td>\n",
       "      <td>-0.158924</td>\n",
       "      <td>-0.090023</td>\n",
       "      <td>0.119297</td>\n",
       "      <td>0.036129</td>\n",
       "      <td>0.051965</td>\n",
       "      <td>0.0</td>\n",
       "      <td>0.0</td>\n",
       "      <td>0.0</td>\n",
       "      <td>0.0</td>\n",
       "      <td>0.0</td>\n",
       "      <td>1.0</td>\n",
       "      <td>0.0</td>\n",
       "      <td>0.0</td>\n",
       "      <td>0.0</td>\n",
       "      <td>0.0</td>\n",
       "      <td>0.0</td>\n",
       "      <td>0.0</td>\n",
       "      <td>0.0</td>\n",
       "      <td>0.0</td>\n",
       "      <td>0.0</td>\n",
       "      <td>0.0</td>\n",
       "      <td>0.0</td>\n",
       "      <td>0.0</td>\n",
       "      <td>1.0</td>\n",
       "      <td>0.0</td>\n",
       "      <td>0.0</td>\n",
       "      <td>1.0</td>\n",
       "      <td>1.0</td>\n",
       "      <td>0.0</td>\n",
       "      <td>0.0</td>\n",
       "      <td>0.0</td>\n",
       "    </tr>\n",
       "    <tr>\n",
       "      <th>1</th>\n",
       "      <td>0.615254</td>\n",
       "      <td>0.193742</td>\n",
       "      <td>0.315765</td>\n",
       "      <td>0.302906</td>\n",
       "      <td>-0.175145</td>\n",
       "      <td>-0.190117</td>\n",
       "      <td>-0.376678</td>\n",
       "      <td>0.721822</td>\n",
       "      <td>-0.430149</td>\n",
       "      <td>-0.152284</td>\n",
       "      <td>-0.087083</td>\n",
       "      <td>0.114470</td>\n",
       "      <td>0.039129</td>\n",
       "      <td>0.059620</td>\n",
       "      <td>0.0</td>\n",
       "      <td>0.0</td>\n",
       "      <td>0.0</td>\n",
       "      <td>0.0</td>\n",
       "      <td>0.0</td>\n",
       "      <td>0.0</td>\n",
       "      <td>0.0</td>\n",
       "      <td>0.0</td>\n",
       "      <td>0.0</td>\n",
       "      <td>0.0</td>\n",
       "      <td>1.0</td>\n",
       "      <td>0.0</td>\n",
       "      <td>0.0</td>\n",
       "      <td>0.0</td>\n",
       "      <td>1.0</td>\n",
       "      <td>0.0</td>\n",
       "      <td>0.0</td>\n",
       "      <td>0.0</td>\n",
       "      <td>0.0</td>\n",
       "      <td>0.0</td>\n",
       "      <td>0.0</td>\n",
       "      <td>0.0</td>\n",
       "      <td>0.0</td>\n",
       "      <td>0.0</td>\n",
       "      <td>0.0</td>\n",
       "      <td>0.0</td>\n",
       "    </tr>\n",
       "    <tr>\n",
       "      <th>2</th>\n",
       "      <td>1.994704</td>\n",
       "      <td>1.050179</td>\n",
       "      <td>-0.641739</td>\n",
       "      <td>-1.078949</td>\n",
       "      <td>-0.156735</td>\n",
       "      <td>-0.085055</td>\n",
       "      <td>-0.061747</td>\n",
       "      <td>0.082642</td>\n",
       "      <td>0.891996</td>\n",
       "      <td>-0.699014</td>\n",
       "      <td>-0.209403</td>\n",
       "      <td>0.209161</td>\n",
       "      <td>0.034922</td>\n",
       "      <td>0.034251</td>\n",
       "      <td>0.0</td>\n",
       "      <td>0.0</td>\n",
       "      <td>0.0</td>\n",
       "      <td>0.0</td>\n",
       "      <td>0.0</td>\n",
       "      <td>1.0</td>\n",
       "      <td>0.0</td>\n",
       "      <td>0.0</td>\n",
       "      <td>0.0</td>\n",
       "      <td>0.0</td>\n",
       "      <td>0.0</td>\n",
       "      <td>0.0</td>\n",
       "      <td>0.0</td>\n",
       "      <td>0.0</td>\n",
       "      <td>0.0</td>\n",
       "      <td>0.0</td>\n",
       "      <td>0.0</td>\n",
       "      <td>0.0</td>\n",
       "      <td>1.0</td>\n",
       "      <td>0.0</td>\n",
       "      <td>0.0</td>\n",
       "      <td>0.0</td>\n",
       "      <td>1.0</td>\n",
       "      <td>0.0</td>\n",
       "      <td>0.0</td>\n",
       "      <td>0.0</td>\n",
       "    </tr>\n",
       "    <tr>\n",
       "      <th>3</th>\n",
       "      <td>0.382274</td>\n",
       "      <td>1.127065</td>\n",
       "      <td>0.315765</td>\n",
       "      <td>-0.260887</td>\n",
       "      <td>-0.090298</td>\n",
       "      <td>-0.043229</td>\n",
       "      <td>-0.064723</td>\n",
       "      <td>-0.033674</td>\n",
       "      <td>0.031989</td>\n",
       "      <td>0.054157</td>\n",
       "      <td>0.056946</td>\n",
       "      <td>-0.178343</td>\n",
       "      <td>-0.117401</td>\n",
       "      <td>-0.242194</td>\n",
       "      <td>0.0</td>\n",
       "      <td>0.0</td>\n",
       "      <td>0.0</td>\n",
       "      <td>0.0</td>\n",
       "      <td>0.0</td>\n",
       "      <td>0.0</td>\n",
       "      <td>0.0</td>\n",
       "      <td>0.0</td>\n",
       "      <td>0.0</td>\n",
       "      <td>0.0</td>\n",
       "      <td>0.0</td>\n",
       "      <td>0.0</td>\n",
       "      <td>0.0</td>\n",
       "      <td>1.0</td>\n",
       "      <td>1.0</td>\n",
       "      <td>0.0</td>\n",
       "      <td>0.0</td>\n",
       "      <td>0.0</td>\n",
       "      <td>0.0</td>\n",
       "      <td>0.0</td>\n",
       "      <td>0.0</td>\n",
       "      <td>1.0</td>\n",
       "      <td>0.0</td>\n",
       "      <td>1.0</td>\n",
       "      <td>0.0</td>\n",
       "      <td>0.0</td>\n",
       "    </tr>\n",
       "    <tr>\n",
       "      <th>4</th>\n",
       "      <td>0.382274</td>\n",
       "      <td>0.509868</td>\n",
       "      <td>0.315765</td>\n",
       "      <td>0.071958</td>\n",
       "      <td>-0.073558</td>\n",
       "      <td>-0.018804</td>\n",
       "      <td>-0.015575</td>\n",
       "      <td>0.009318</td>\n",
       "      <td>0.062013</td>\n",
       "      <td>0.066951</td>\n",
       "      <td>0.056749</td>\n",
       "      <td>-0.137729</td>\n",
       "      <td>-0.042871</td>\n",
       "      <td>-0.045051</td>\n",
       "      <td>0.0</td>\n",
       "      <td>0.0</td>\n",
       "      <td>0.0</td>\n",
       "      <td>0.0</td>\n",
       "      <td>0.0</td>\n",
       "      <td>0.0</td>\n",
       "      <td>0.0</td>\n",
       "      <td>0.0</td>\n",
       "      <td>0.0</td>\n",
       "      <td>0.0</td>\n",
       "      <td>0.0</td>\n",
       "      <td>0.0</td>\n",
       "      <td>1.0</td>\n",
       "      <td>0.0</td>\n",
       "      <td>1.0</td>\n",
       "      <td>0.0</td>\n",
       "      <td>0.0</td>\n",
       "      <td>0.0</td>\n",
       "      <td>0.0</td>\n",
       "      <td>0.0</td>\n",
       "      <td>0.0</td>\n",
       "      <td>0.0</td>\n",
       "      <td>1.0</td>\n",
       "      <td>0.0</td>\n",
       "      <td>0.0</td>\n",
       "      <td>0.0</td>\n",
       "    </tr>\n",
       "  </tbody>\n",
       "</table>\n",
       "</div>"
      ],
      "text/plain": [
       "   numerical__age  numerical__miles  numerical__engine_vol  \\\n",
       "0       -1.438106         -1.291373              -1.401184   \n",
       "1        0.615254          0.193742               0.315765   \n",
       "2        1.994704          1.050179              -0.641739   \n",
       "3        0.382274          1.127065               0.315765   \n",
       "4        0.382274          0.509868               0.315765   \n",
       "\n",
       "   numerical__engine_power  pca__pca0  pca__pca1  pca__pca2  pca__pca3  \\\n",
       "0                -1.271953  -0.178184  -0.195699  -0.386138   0.741084   \n",
       "1                 0.302906  -0.175145  -0.190117  -0.376678   0.721822   \n",
       "2                -1.078949  -0.156735  -0.085055  -0.061747   0.082642   \n",
       "3                -0.260887  -0.090298  -0.043229  -0.064723  -0.033674   \n",
       "4                 0.071958  -0.073558  -0.018804  -0.015575   0.009318   \n",
       "\n",
       "   pca__pca4  pca__pca5  pca__pca6  pca__pca7  pca__pca8  pca__pca9  \\\n",
       "0  -0.442653  -0.158924  -0.090023   0.119297   0.036129   0.051965   \n",
       "1  -0.430149  -0.152284  -0.087083   0.114470   0.039129   0.059620   \n",
       "2   0.891996  -0.699014  -0.209403   0.209161   0.034922   0.034251   \n",
       "3   0.031989   0.054157   0.056946  -0.178343  -0.117401  -0.242194   \n",
       "4   0.062013   0.066951   0.056749  -0.137729  -0.042871  -0.045051   \n",
       "\n",
       "   one_hot__body_type_car derived van  one_hot__body_type_combi van  \\\n",
       "0                                 0.0                           0.0   \n",
       "1                                 0.0                           0.0   \n",
       "2                                 0.0                           0.0   \n",
       "3                                 0.0                           0.0   \n",
       "4                                 0.0                           0.0   \n",
       "\n",
       "   one_hot__body_type_convertible  one_hot__body_type_coupe  \\\n",
       "0                             0.0                       0.0   \n",
       "1                             0.0                       0.0   \n",
       "2                             0.0                       0.0   \n",
       "3                             0.0                       0.0   \n",
       "4                             0.0                       0.0   \n",
       "\n",
       "   one_hot__body_type_estate  one_hot__body_type_hatchback  \\\n",
       "0                        0.0                           1.0   \n",
       "1                        0.0                           0.0   \n",
       "2                        0.0                           1.0   \n",
       "3                        0.0                           0.0   \n",
       "4                        0.0                           0.0   \n",
       "\n",
       "   one_hot__body_type_limousine  one_hot__body_type_minibus  \\\n",
       "0                           0.0                         0.0   \n",
       "1                           0.0                         0.0   \n",
       "2                           0.0                         0.0   \n",
       "3                           0.0                         0.0   \n",
       "4                           0.0                         0.0   \n",
       "\n",
       "   one_hot__body_type_mpv  one_hot__body_type_panel van  \\\n",
       "0                     0.0                           0.0   \n",
       "1                     0.0                           0.0   \n",
       "2                     0.0                           0.0   \n",
       "3                     0.0                           0.0   \n",
       "4                     0.0                           0.0   \n",
       "\n",
       "   one_hot__body_type_pickup  one_hot__body_type_pickup double cab car  \\\n",
       "0                        0.0                                       0.0   \n",
       "1                        1.0                                       0.0   \n",
       "2                        0.0                                       0.0   \n",
       "3                        0.0                                       0.0   \n",
       "4                        0.0                                       0.0   \n",
       "\n",
       "   one_hot__body_type_saloon  one_hot__body_type_suv  \\\n",
       "0                        0.0                     0.0   \n",
       "1                        0.0                     0.0   \n",
       "2                        0.0                     0.0   \n",
       "3                        0.0                     1.0   \n",
       "4                        1.0                     0.0   \n",
       "\n",
       "   one_hot__fuel_type_diesel  one_hot__fuel_type_diesel hybrid  \\\n",
       "0                        0.0                               0.0   \n",
       "1                        1.0                               0.0   \n",
       "2                        0.0                               0.0   \n",
       "3                        1.0                               0.0   \n",
       "4                        1.0                               0.0   \n",
       "\n",
       "   one_hot__fuel_type_diesel plug-in hybrid  one_hot__fuel_type_electric  \\\n",
       "0                                       0.0                          0.0   \n",
       "1                                       0.0                          0.0   \n",
       "2                                       0.0                          0.0   \n",
       "3                                       0.0                          0.0   \n",
       "4                                       0.0                          0.0   \n",
       "\n",
       "   one_hot__fuel_type_petrol  one_hot__fuel_type_petrol hybrid  \\\n",
       "0                        1.0                               0.0   \n",
       "1                        0.0                               0.0   \n",
       "2                        1.0                               0.0   \n",
       "3                        0.0                               0.0   \n",
       "4                        0.0                               0.0   \n",
       "\n",
       "   one_hot__fuel_type_petrol plug-in hybrid  binary__transmission  \\\n",
       "0                                       0.0                   1.0   \n",
       "1                                       0.0                   0.0   \n",
       "2                                       0.0                   0.0   \n",
       "3                                       0.0                   1.0   \n",
       "4                                       0.0                   0.0   \n",
       "\n",
       "   binary__ulez  binary__full_service  binary__part_service  \\\n",
       "0           1.0                   0.0                   0.0   \n",
       "1           0.0                   0.0                   0.0   \n",
       "2           1.0                   0.0                   0.0   \n",
       "3           0.0                   1.0                   0.0   \n",
       "4           1.0                   0.0                   0.0   \n",
       "\n",
       "   binary__private_sale  \n",
       "0                   0.0  \n",
       "1                   0.0  \n",
       "2                   0.0  \n",
       "3                   0.0  \n",
       "4                   0.0  "
      ]
     },
     "execution_count": 342,
     "metadata": {},
     "output_type": "execute_result"
    }
   ],
   "source": [
    "X_train_prepared_df.head()"
   ]
  },
  {
   "cell_type": "markdown",
   "metadata": {},
   "source": [
    "We now need to create a pipeline for the target feature.\n",
    "\n",
    "We need to define the inverse function too so we can return predictions back to actual values."
   ]
  },
  {
   "cell_type": "code",
   "execution_count": 383,
   "metadata": {},
   "outputs": [],
   "source": [
    "# Define the forward and inverse transformations\n",
    "log_transformer = FunctionTransformer(\n",
    "    func=np.log1p,  # Forward transformation\n",
    "    inverse_func=np.expm1  # Inverse transformation\n",
    ")\n",
    "\n",
    "# Define the pipeline\n",
    "target_pipeline = Pipeline([\n",
    "    ('log', log_transformer),\n",
    "    ('scaler', StandardScaler())\n",
    "])\n",
    "\n",
    "# Create a df to pass to the pipeline from the series\n",
    "y_train_df = pd.DataFrame(y_train)\n",
    "\n",
    "y_train_prepared = target_pipeline.fit_transform(y_train_df)"
   ]
  },
  {
   "cell_type": "markdown",
   "metadata": {},
   "source": [
    "Let's convert y_train_prepared from NumPy array back to a Series so we can use it easily with cross-validation later."
   ]
  },
  {
   "cell_type": "code",
   "execution_count": 387,
   "metadata": {},
   "outputs": [],
   "source": [
    "y_train_prepared_series = pd.Series(y_train_prepared.flatten())\n",
    "y_train_prepared_series.index = y_train.index"
   ]
  },
  {
   "cell_type": "markdown",
   "metadata": {},
   "source": [
    "### 6. Model Selection\n",
    "\n",
    "Our data has been preprocesed, so we're now ready to test different models and see which perform best.\n",
    "\n",
    "We'll test several regression models, using default hyperparameter values for now."
   ]
  },
  {
   "cell_type": "code",
   "execution_count": 349,
   "metadata": {},
   "outputs": [],
   "source": [
    "# Define list of regressors to test\n",
    "regs = [\n",
    "    ('Linear Regression', LinearRegression()),\n",
    "    ('SGD Regressor', SGDRegressor(random_state=42)),\n",
    "    ('Decision Tree Regression', DecisionTreeRegressor(random_state=42)),\n",
    "    ('Random Forest', RandomForestRegressor(random_state=42, n_jobs=-1)),\n",
    "    ('Gradient Boosting', GradientBoostingRegressor(random_state=42)),\n",
    "    ('XGBRegressor', XGBRegressor(random_state=42)),\n",
    "    ('CatBoostRegressor', CatBoostRegressor(random_state=42, silent=True)),\n",
    "    ('LightGBMRegressor', LGBMRegressor(random_state=42))\n",
    "]"
   ]
  },
  {
   "cell_type": "markdown",
   "metadata": {},
   "source": [
    "We'll create a k-fold object so we can use the same folds on each model."
   ]
  },
  {
   "cell_type": "code",
   "execution_count": 351,
   "metadata": {},
   "outputs": [],
   "source": [
    "# Create KFold object with 10 folds\n",
    "reg_kf = KFold(n_splits=5, shuffle=True, random_state=42)"
   ]
  },
  {
   "cell_type": "markdown",
   "metadata": {},
   "source": [
    "We need to create a custom scorer function, so we can get the RMSE that's accurate to the actual price values (not the scaled/log transformed values).\n",
    "\n",
    "Let's create a custom scorer to do this."
   ]
  },
  {
   "cell_type": "code",
   "execution_count": null,
   "metadata": {},
   "outputs": [],
   "source": [
    "# Define the custom RMSE function\n",
    "def custom_rmse(y_true, y_pred, pipeline):\n",
    "    y_true = y_true.reshape(-1, 1)\n",
    "    y_pred = y_pred.reshape(-1, 1)\n",
    "    \n",
    "    # Inverse transform using the pipeline\n",
    "    y_true_inv = pipeline.inverse_transform(y_true)\n",
    "    y_pred_inv = pipeline.inverse_transform(y_pred)\n",
    "    \n",
    "    # Calculate RMSE\n",
    "    return np.sqrt(mean_squared_error(y_true_inv, y_pred_inv))\n",
    "\n",
    "# Create the custom scorer\n",
    "custom_rmse_scorer = make_scorer(custom_rmse, pipeline=target_pipeline, greater_is_better=False)"
   ]
  },
  {
   "cell_type": "code",
   "execution_count": 400,
   "metadata": {},
   "outputs": [
    {
     "name": "stdout",
     "output_type": "stream",
     "text": [
      "Testing model: Linear Regression\n",
      "Testing model: SGD Regressor\n"
     ]
    },
    {
     "ename": "KeyboardInterrupt",
     "evalue": "",
     "output_type": "error",
     "traceback": [
      "\u001b[0;31m---------------------------------------------------------------------------\u001b[0m",
      "\u001b[0;31mKeyboardInterrupt\u001b[0m                         Traceback (most recent call last)",
      "Cell \u001b[0;32mIn[400], line 7\u001b[0m\n\u001b[1;32m      5\u001b[0m \u001b[38;5;28;01mfor\u001b[39;00m reg_name, reg \u001b[38;5;129;01min\u001b[39;00m regs:\n\u001b[1;32m      6\u001b[0m     \u001b[38;5;28mprint\u001b[39m(\u001b[38;5;124mf\u001b[39m\u001b[38;5;124m'\u001b[39m\u001b[38;5;124mTesting model: \u001b[39m\u001b[38;5;132;01m{\u001b[39;00mreg_name\u001b[38;5;132;01m}\u001b[39;00m\u001b[38;5;124m'\u001b[39m)\n\u001b[0;32m----> 7\u001b[0m     cv_rmses \u001b[38;5;241m=\u001b[39m \u001b[43mcross_val_score\u001b[49m\u001b[43m(\u001b[49m\u001b[43mreg\u001b[49m\u001b[43m,\u001b[49m\u001b[43m \u001b[49m\u001b[43mX_train_prepared\u001b[49m\u001b[43m,\u001b[49m\u001b[43m \u001b[49m\u001b[43my_train_prepared\u001b[49m\u001b[38;5;241;43m.\u001b[39;49m\u001b[43mravel\u001b[49m\u001b[43m(\u001b[49m\u001b[43m)\u001b[49m\u001b[43m,\u001b[49m\u001b[43m \u001b[49m\u001b[43mcv\u001b[49m\u001b[38;5;241;43m=\u001b[39;49m\u001b[43mreg_kf\u001b[49m\u001b[43m,\u001b[49m\u001b[43m \u001b[49m\u001b[43mscoring\u001b[49m\u001b[38;5;241;43m=\u001b[39;49m\u001b[43mcustom_rmse_scorer\u001b[49m\u001b[43m,\u001b[49m\u001b[43m \u001b[49m\u001b[43mn_jobs\u001b[49m\u001b[38;5;241;43m=\u001b[39;49m\u001b[38;5;241;43m-\u001b[39;49m\u001b[38;5;241;43m1\u001b[39;49m\u001b[43m)\u001b[49m\n\u001b[1;32m      8\u001b[0m     reg_results[reg_name] \u001b[38;5;241m=\u001b[39m cv_rmses  \u001b[38;5;66;03m# Since the scorer returns negative RMSE\u001b[39;00m\n\u001b[1;32m     10\u001b[0m \u001b[38;5;66;03m# Convert the results to a DataFrame\u001b[39;00m\n",
      "File \u001b[0;32m/Library/Frameworks/Python.framework/Versions/3.12/lib/python3.12/site-packages/sklearn/utils/_param_validation.py:213\u001b[0m, in \u001b[0;36mvalidate_params.<locals>.decorator.<locals>.wrapper\u001b[0;34m(*args, **kwargs)\u001b[0m\n\u001b[1;32m    207\u001b[0m \u001b[38;5;28;01mtry\u001b[39;00m:\n\u001b[1;32m    208\u001b[0m     \u001b[38;5;28;01mwith\u001b[39;00m config_context(\n\u001b[1;32m    209\u001b[0m         skip_parameter_validation\u001b[38;5;241m=\u001b[39m(\n\u001b[1;32m    210\u001b[0m             prefer_skip_nested_validation \u001b[38;5;129;01mor\u001b[39;00m global_skip_validation\n\u001b[1;32m    211\u001b[0m         )\n\u001b[1;32m    212\u001b[0m     ):\n\u001b[0;32m--> 213\u001b[0m         \u001b[38;5;28;01mreturn\u001b[39;00m \u001b[43mfunc\u001b[49m\u001b[43m(\u001b[49m\u001b[38;5;241;43m*\u001b[39;49m\u001b[43margs\u001b[49m\u001b[43m,\u001b[49m\u001b[43m \u001b[49m\u001b[38;5;241;43m*\u001b[39;49m\u001b[38;5;241;43m*\u001b[39;49m\u001b[43mkwargs\u001b[49m\u001b[43m)\u001b[49m\n\u001b[1;32m    214\u001b[0m \u001b[38;5;28;01mexcept\u001b[39;00m InvalidParameterError \u001b[38;5;28;01mas\u001b[39;00m e:\n\u001b[1;32m    215\u001b[0m     \u001b[38;5;66;03m# When the function is just a wrapper around an estimator, we allow\u001b[39;00m\n\u001b[1;32m    216\u001b[0m     \u001b[38;5;66;03m# the function to delegate validation to the estimator, but we replace\u001b[39;00m\n\u001b[1;32m    217\u001b[0m     \u001b[38;5;66;03m# the name of the estimator by the name of the function in the error\u001b[39;00m\n\u001b[1;32m    218\u001b[0m     \u001b[38;5;66;03m# message to avoid confusion.\u001b[39;00m\n\u001b[1;32m    219\u001b[0m     msg \u001b[38;5;241m=\u001b[39m re\u001b[38;5;241m.\u001b[39msub(\n\u001b[1;32m    220\u001b[0m         \u001b[38;5;124mr\u001b[39m\u001b[38;5;124m\"\u001b[39m\u001b[38;5;124mparameter of \u001b[39m\u001b[38;5;124m\\\u001b[39m\u001b[38;5;124mw+ must be\u001b[39m\u001b[38;5;124m\"\u001b[39m,\n\u001b[1;32m    221\u001b[0m         \u001b[38;5;124mf\u001b[39m\u001b[38;5;124m\"\u001b[39m\u001b[38;5;124mparameter of \u001b[39m\u001b[38;5;132;01m{\u001b[39;00mfunc\u001b[38;5;241m.\u001b[39m\u001b[38;5;18m__qualname__\u001b[39m\u001b[38;5;132;01m}\u001b[39;00m\u001b[38;5;124m must be\u001b[39m\u001b[38;5;124m\"\u001b[39m,\n\u001b[1;32m    222\u001b[0m         \u001b[38;5;28mstr\u001b[39m(e),\n\u001b[1;32m    223\u001b[0m     )\n",
      "File \u001b[0;32m/Library/Frameworks/Python.framework/Versions/3.12/lib/python3.12/site-packages/sklearn/model_selection/_validation.py:719\u001b[0m, in \u001b[0;36mcross_val_score\u001b[0;34m(estimator, X, y, groups, scoring, cv, n_jobs, verbose, fit_params, params, pre_dispatch, error_score)\u001b[0m\n\u001b[1;32m    716\u001b[0m \u001b[38;5;66;03m# To ensure multimetric format is not supported\u001b[39;00m\n\u001b[1;32m    717\u001b[0m scorer \u001b[38;5;241m=\u001b[39m check_scoring(estimator, scoring\u001b[38;5;241m=\u001b[39mscoring)\n\u001b[0;32m--> 719\u001b[0m cv_results \u001b[38;5;241m=\u001b[39m \u001b[43mcross_validate\u001b[49m\u001b[43m(\u001b[49m\n\u001b[1;32m    720\u001b[0m \u001b[43m    \u001b[49m\u001b[43mestimator\u001b[49m\u001b[38;5;241;43m=\u001b[39;49m\u001b[43mestimator\u001b[49m\u001b[43m,\u001b[49m\n\u001b[1;32m    721\u001b[0m \u001b[43m    \u001b[49m\u001b[43mX\u001b[49m\u001b[38;5;241;43m=\u001b[39;49m\u001b[43mX\u001b[49m\u001b[43m,\u001b[49m\n\u001b[1;32m    722\u001b[0m \u001b[43m    \u001b[49m\u001b[43my\u001b[49m\u001b[38;5;241;43m=\u001b[39;49m\u001b[43my\u001b[49m\u001b[43m,\u001b[49m\n\u001b[1;32m    723\u001b[0m \u001b[43m    \u001b[49m\u001b[43mgroups\u001b[49m\u001b[38;5;241;43m=\u001b[39;49m\u001b[43mgroups\u001b[49m\u001b[43m,\u001b[49m\n\u001b[1;32m    724\u001b[0m \u001b[43m    \u001b[49m\u001b[43mscoring\u001b[49m\u001b[38;5;241;43m=\u001b[39;49m\u001b[43m{\u001b[49m\u001b[38;5;124;43m\"\u001b[39;49m\u001b[38;5;124;43mscore\u001b[39;49m\u001b[38;5;124;43m\"\u001b[39;49m\u001b[43m:\u001b[49m\u001b[43m \u001b[49m\u001b[43mscorer\u001b[49m\u001b[43m}\u001b[49m\u001b[43m,\u001b[49m\n\u001b[1;32m    725\u001b[0m \u001b[43m    \u001b[49m\u001b[43mcv\u001b[49m\u001b[38;5;241;43m=\u001b[39;49m\u001b[43mcv\u001b[49m\u001b[43m,\u001b[49m\n\u001b[1;32m    726\u001b[0m \u001b[43m    \u001b[49m\u001b[43mn_jobs\u001b[49m\u001b[38;5;241;43m=\u001b[39;49m\u001b[43mn_jobs\u001b[49m\u001b[43m,\u001b[49m\n\u001b[1;32m    727\u001b[0m \u001b[43m    \u001b[49m\u001b[43mverbose\u001b[49m\u001b[38;5;241;43m=\u001b[39;49m\u001b[43mverbose\u001b[49m\u001b[43m,\u001b[49m\n\u001b[1;32m    728\u001b[0m \u001b[43m    \u001b[49m\u001b[43mfit_params\u001b[49m\u001b[38;5;241;43m=\u001b[39;49m\u001b[43mfit_params\u001b[49m\u001b[43m,\u001b[49m\n\u001b[1;32m    729\u001b[0m \u001b[43m    \u001b[49m\u001b[43mparams\u001b[49m\u001b[38;5;241;43m=\u001b[39;49m\u001b[43mparams\u001b[49m\u001b[43m,\u001b[49m\n\u001b[1;32m    730\u001b[0m \u001b[43m    \u001b[49m\u001b[43mpre_dispatch\u001b[49m\u001b[38;5;241;43m=\u001b[39;49m\u001b[43mpre_dispatch\u001b[49m\u001b[43m,\u001b[49m\n\u001b[1;32m    731\u001b[0m \u001b[43m    \u001b[49m\u001b[43merror_score\u001b[49m\u001b[38;5;241;43m=\u001b[39;49m\u001b[43merror_score\u001b[49m\u001b[43m,\u001b[49m\n\u001b[1;32m    732\u001b[0m \u001b[43m\u001b[49m\u001b[43m)\u001b[49m\n\u001b[1;32m    733\u001b[0m \u001b[38;5;28;01mreturn\u001b[39;00m cv_results[\u001b[38;5;124m\"\u001b[39m\u001b[38;5;124mtest_score\u001b[39m\u001b[38;5;124m\"\u001b[39m]\n",
      "File \u001b[0;32m/Library/Frameworks/Python.framework/Versions/3.12/lib/python3.12/site-packages/sklearn/utils/_param_validation.py:213\u001b[0m, in \u001b[0;36mvalidate_params.<locals>.decorator.<locals>.wrapper\u001b[0;34m(*args, **kwargs)\u001b[0m\n\u001b[1;32m    207\u001b[0m \u001b[38;5;28;01mtry\u001b[39;00m:\n\u001b[1;32m    208\u001b[0m     \u001b[38;5;28;01mwith\u001b[39;00m config_context(\n\u001b[1;32m    209\u001b[0m         skip_parameter_validation\u001b[38;5;241m=\u001b[39m(\n\u001b[1;32m    210\u001b[0m             prefer_skip_nested_validation \u001b[38;5;129;01mor\u001b[39;00m global_skip_validation\n\u001b[1;32m    211\u001b[0m         )\n\u001b[1;32m    212\u001b[0m     ):\n\u001b[0;32m--> 213\u001b[0m         \u001b[38;5;28;01mreturn\u001b[39;00m \u001b[43mfunc\u001b[49m\u001b[43m(\u001b[49m\u001b[38;5;241;43m*\u001b[39;49m\u001b[43margs\u001b[49m\u001b[43m,\u001b[49m\u001b[43m \u001b[49m\u001b[38;5;241;43m*\u001b[39;49m\u001b[38;5;241;43m*\u001b[39;49m\u001b[43mkwargs\u001b[49m\u001b[43m)\u001b[49m\n\u001b[1;32m    214\u001b[0m \u001b[38;5;28;01mexcept\u001b[39;00m InvalidParameterError \u001b[38;5;28;01mas\u001b[39;00m e:\n\u001b[1;32m    215\u001b[0m     \u001b[38;5;66;03m# When the function is just a wrapper around an estimator, we allow\u001b[39;00m\n\u001b[1;32m    216\u001b[0m     \u001b[38;5;66;03m# the function to delegate validation to the estimator, but we replace\u001b[39;00m\n\u001b[1;32m    217\u001b[0m     \u001b[38;5;66;03m# the name of the estimator by the name of the function in the error\u001b[39;00m\n\u001b[1;32m    218\u001b[0m     \u001b[38;5;66;03m# message to avoid confusion.\u001b[39;00m\n\u001b[1;32m    219\u001b[0m     msg \u001b[38;5;241m=\u001b[39m re\u001b[38;5;241m.\u001b[39msub(\n\u001b[1;32m    220\u001b[0m         \u001b[38;5;124mr\u001b[39m\u001b[38;5;124m\"\u001b[39m\u001b[38;5;124mparameter of \u001b[39m\u001b[38;5;124m\\\u001b[39m\u001b[38;5;124mw+ must be\u001b[39m\u001b[38;5;124m\"\u001b[39m,\n\u001b[1;32m    221\u001b[0m         \u001b[38;5;124mf\u001b[39m\u001b[38;5;124m\"\u001b[39m\u001b[38;5;124mparameter of \u001b[39m\u001b[38;5;132;01m{\u001b[39;00mfunc\u001b[38;5;241m.\u001b[39m\u001b[38;5;18m__qualname__\u001b[39m\u001b[38;5;132;01m}\u001b[39;00m\u001b[38;5;124m must be\u001b[39m\u001b[38;5;124m\"\u001b[39m,\n\u001b[1;32m    222\u001b[0m         \u001b[38;5;28mstr\u001b[39m(e),\n\u001b[1;32m    223\u001b[0m     )\n",
      "File \u001b[0;32m/Library/Frameworks/Python.framework/Versions/3.12/lib/python3.12/site-packages/sklearn/model_selection/_validation.py:430\u001b[0m, in \u001b[0;36mcross_validate\u001b[0;34m(estimator, X, y, groups, scoring, cv, n_jobs, verbose, fit_params, params, pre_dispatch, return_train_score, return_estimator, return_indices, error_score)\u001b[0m\n\u001b[1;32m    427\u001b[0m \u001b[38;5;66;03m# We clone the estimator to make sure that all the folds are\u001b[39;00m\n\u001b[1;32m    428\u001b[0m \u001b[38;5;66;03m# independent, and that it is pickle-able.\u001b[39;00m\n\u001b[1;32m    429\u001b[0m parallel \u001b[38;5;241m=\u001b[39m Parallel(n_jobs\u001b[38;5;241m=\u001b[39mn_jobs, verbose\u001b[38;5;241m=\u001b[39mverbose, pre_dispatch\u001b[38;5;241m=\u001b[39mpre_dispatch)\n\u001b[0;32m--> 430\u001b[0m results \u001b[38;5;241m=\u001b[39m \u001b[43mparallel\u001b[49m\u001b[43m(\u001b[49m\n\u001b[1;32m    431\u001b[0m \u001b[43m    \u001b[49m\u001b[43mdelayed\u001b[49m\u001b[43m(\u001b[49m\u001b[43m_fit_and_score\u001b[49m\u001b[43m)\u001b[49m\u001b[43m(\u001b[49m\n\u001b[1;32m    432\u001b[0m \u001b[43m        \u001b[49m\u001b[43mclone\u001b[49m\u001b[43m(\u001b[49m\u001b[43mestimator\u001b[49m\u001b[43m)\u001b[49m\u001b[43m,\u001b[49m\n\u001b[1;32m    433\u001b[0m \u001b[43m        \u001b[49m\u001b[43mX\u001b[49m\u001b[43m,\u001b[49m\n\u001b[1;32m    434\u001b[0m \u001b[43m        \u001b[49m\u001b[43my\u001b[49m\u001b[43m,\u001b[49m\n\u001b[1;32m    435\u001b[0m \u001b[43m        \u001b[49m\u001b[43mscorer\u001b[49m\u001b[38;5;241;43m=\u001b[39;49m\u001b[43mscorers\u001b[49m\u001b[43m,\u001b[49m\n\u001b[1;32m    436\u001b[0m \u001b[43m        \u001b[49m\u001b[43mtrain\u001b[49m\u001b[38;5;241;43m=\u001b[39;49m\u001b[43mtrain\u001b[49m\u001b[43m,\u001b[49m\n\u001b[1;32m    437\u001b[0m \u001b[43m        \u001b[49m\u001b[43mtest\u001b[49m\u001b[38;5;241;43m=\u001b[39;49m\u001b[43mtest\u001b[49m\u001b[43m,\u001b[49m\n\u001b[1;32m    438\u001b[0m \u001b[43m        \u001b[49m\u001b[43mverbose\u001b[49m\u001b[38;5;241;43m=\u001b[39;49m\u001b[43mverbose\u001b[49m\u001b[43m,\u001b[49m\n\u001b[1;32m    439\u001b[0m \u001b[43m        \u001b[49m\u001b[43mparameters\u001b[49m\u001b[38;5;241;43m=\u001b[39;49m\u001b[38;5;28;43;01mNone\u001b[39;49;00m\u001b[43m,\u001b[49m\n\u001b[1;32m    440\u001b[0m \u001b[43m        \u001b[49m\u001b[43mfit_params\u001b[49m\u001b[38;5;241;43m=\u001b[39;49m\u001b[43mrouted_params\u001b[49m\u001b[38;5;241;43m.\u001b[39;49m\u001b[43mestimator\u001b[49m\u001b[38;5;241;43m.\u001b[39;49m\u001b[43mfit\u001b[49m\u001b[43m,\u001b[49m\n\u001b[1;32m    441\u001b[0m \u001b[43m        \u001b[49m\u001b[43mscore_params\u001b[49m\u001b[38;5;241;43m=\u001b[39;49m\u001b[43mrouted_params\u001b[49m\u001b[38;5;241;43m.\u001b[39;49m\u001b[43mscorer\u001b[49m\u001b[38;5;241;43m.\u001b[39;49m\u001b[43mscore\u001b[49m\u001b[43m,\u001b[49m\n\u001b[1;32m    442\u001b[0m \u001b[43m        \u001b[49m\u001b[43mreturn_train_score\u001b[49m\u001b[38;5;241;43m=\u001b[39;49m\u001b[43mreturn_train_score\u001b[49m\u001b[43m,\u001b[49m\n\u001b[1;32m    443\u001b[0m \u001b[43m        \u001b[49m\u001b[43mreturn_times\u001b[49m\u001b[38;5;241;43m=\u001b[39;49m\u001b[38;5;28;43;01mTrue\u001b[39;49;00m\u001b[43m,\u001b[49m\n\u001b[1;32m    444\u001b[0m \u001b[43m        \u001b[49m\u001b[43mreturn_estimator\u001b[49m\u001b[38;5;241;43m=\u001b[39;49m\u001b[43mreturn_estimator\u001b[49m\u001b[43m,\u001b[49m\n\u001b[1;32m    445\u001b[0m \u001b[43m        \u001b[49m\u001b[43merror_score\u001b[49m\u001b[38;5;241;43m=\u001b[39;49m\u001b[43merror_score\u001b[49m\u001b[43m,\u001b[49m\n\u001b[1;32m    446\u001b[0m \u001b[43m    \u001b[49m\u001b[43m)\u001b[49m\n\u001b[1;32m    447\u001b[0m \u001b[43m    \u001b[49m\u001b[38;5;28;43;01mfor\u001b[39;49;00m\u001b[43m \u001b[49m\u001b[43mtrain\u001b[49m\u001b[43m,\u001b[49m\u001b[43m \u001b[49m\u001b[43mtest\u001b[49m\u001b[43m \u001b[49m\u001b[38;5;129;43;01min\u001b[39;49;00m\u001b[43m \u001b[49m\u001b[43mindices\u001b[49m\n\u001b[1;32m    448\u001b[0m \u001b[43m\u001b[49m\u001b[43m)\u001b[49m\n\u001b[1;32m    450\u001b[0m _warn_or_raise_about_fit_failures(results, error_score)\n\u001b[1;32m    452\u001b[0m \u001b[38;5;66;03m# For callable scoring, the return type is only know after calling. If the\u001b[39;00m\n\u001b[1;32m    453\u001b[0m \u001b[38;5;66;03m# return type is a dictionary, the error scores can now be inserted with\u001b[39;00m\n\u001b[1;32m    454\u001b[0m \u001b[38;5;66;03m# the correct key.\u001b[39;00m\n",
      "File \u001b[0;32m/Library/Frameworks/Python.framework/Versions/3.12/lib/python3.12/site-packages/sklearn/utils/parallel.py:67\u001b[0m, in \u001b[0;36mParallel.__call__\u001b[0;34m(self, iterable)\u001b[0m\n\u001b[1;32m     62\u001b[0m config \u001b[38;5;241m=\u001b[39m get_config()\n\u001b[1;32m     63\u001b[0m iterable_with_config \u001b[38;5;241m=\u001b[39m (\n\u001b[1;32m     64\u001b[0m     (_with_config(delayed_func, config), args, kwargs)\n\u001b[1;32m     65\u001b[0m     \u001b[38;5;28;01mfor\u001b[39;00m delayed_func, args, kwargs \u001b[38;5;129;01min\u001b[39;00m iterable\n\u001b[1;32m     66\u001b[0m )\n\u001b[0;32m---> 67\u001b[0m \u001b[38;5;28;01mreturn\u001b[39;00m \u001b[38;5;28;43msuper\u001b[39;49m\u001b[43m(\u001b[49m\u001b[43m)\u001b[49m\u001b[38;5;241;43m.\u001b[39;49m\u001b[38;5;21;43m__call__\u001b[39;49m\u001b[43m(\u001b[49m\u001b[43miterable_with_config\u001b[49m\u001b[43m)\u001b[49m\n",
      "File \u001b[0;32m/Library/Frameworks/Python.framework/Versions/3.12/lib/python3.12/site-packages/joblib/parallel.py:2007\u001b[0m, in \u001b[0;36mParallel.__call__\u001b[0;34m(self, iterable)\u001b[0m\n\u001b[1;32m   2001\u001b[0m \u001b[38;5;66;03m# The first item from the output is blank, but it makes the interpreter\u001b[39;00m\n\u001b[1;32m   2002\u001b[0m \u001b[38;5;66;03m# progress until it enters the Try/Except block of the generator and\u001b[39;00m\n\u001b[1;32m   2003\u001b[0m \u001b[38;5;66;03m# reaches the first `yield` statement. This starts the asynchronous\u001b[39;00m\n\u001b[1;32m   2004\u001b[0m \u001b[38;5;66;03m# dispatch of the tasks to the workers.\u001b[39;00m\n\u001b[1;32m   2005\u001b[0m \u001b[38;5;28mnext\u001b[39m(output)\n\u001b[0;32m-> 2007\u001b[0m \u001b[38;5;28;01mreturn\u001b[39;00m output \u001b[38;5;28;01mif\u001b[39;00m \u001b[38;5;28mself\u001b[39m\u001b[38;5;241m.\u001b[39mreturn_generator \u001b[38;5;28;01melse\u001b[39;00m \u001b[38;5;28;43mlist\u001b[39;49m\u001b[43m(\u001b[49m\u001b[43moutput\u001b[49m\u001b[43m)\u001b[49m\n",
      "File \u001b[0;32m/Library/Frameworks/Python.framework/Versions/3.12/lib/python3.12/site-packages/joblib/parallel.py:1650\u001b[0m, in \u001b[0;36mParallel._get_outputs\u001b[0;34m(self, iterator, pre_dispatch)\u001b[0m\n\u001b[1;32m   1647\u001b[0m     \u001b[38;5;28;01myield\u001b[39;00m\n\u001b[1;32m   1649\u001b[0m     \u001b[38;5;28;01mwith\u001b[39;00m \u001b[38;5;28mself\u001b[39m\u001b[38;5;241m.\u001b[39m_backend\u001b[38;5;241m.\u001b[39mretrieval_context():\n\u001b[0;32m-> 1650\u001b[0m         \u001b[38;5;28;01myield from\u001b[39;00m \u001b[38;5;28mself\u001b[39m\u001b[38;5;241m.\u001b[39m_retrieve()\n\u001b[1;32m   1652\u001b[0m \u001b[38;5;28;01mexcept\u001b[39;00m \u001b[38;5;167;01mGeneratorExit\u001b[39;00m:\n\u001b[1;32m   1653\u001b[0m     \u001b[38;5;66;03m# The generator has been garbage collected before being fully\u001b[39;00m\n\u001b[1;32m   1654\u001b[0m     \u001b[38;5;66;03m# consumed. This aborts the remaining tasks if possible and warn\u001b[39;00m\n\u001b[1;32m   1655\u001b[0m     \u001b[38;5;66;03m# the user if necessary.\u001b[39;00m\n\u001b[1;32m   1656\u001b[0m     \u001b[38;5;28mself\u001b[39m\u001b[38;5;241m.\u001b[39m_exception \u001b[38;5;241m=\u001b[39m \u001b[38;5;28;01mTrue\u001b[39;00m\n",
      "File \u001b[0;32m/Library/Frameworks/Python.framework/Versions/3.12/lib/python3.12/site-packages/joblib/parallel.py:1762\u001b[0m, in \u001b[0;36mParallel._retrieve\u001b[0;34m(self)\u001b[0m\n\u001b[1;32m   1757\u001b[0m \u001b[38;5;66;03m# If the next job is not ready for retrieval yet, we just wait for\u001b[39;00m\n\u001b[1;32m   1758\u001b[0m \u001b[38;5;66;03m# async callbacks to progress.\u001b[39;00m\n\u001b[1;32m   1759\u001b[0m \u001b[38;5;28;01mif\u001b[39;00m ((\u001b[38;5;28mlen\u001b[39m(\u001b[38;5;28mself\u001b[39m\u001b[38;5;241m.\u001b[39m_jobs) \u001b[38;5;241m==\u001b[39m \u001b[38;5;241m0\u001b[39m) \u001b[38;5;129;01mor\u001b[39;00m\n\u001b[1;32m   1760\u001b[0m     (\u001b[38;5;28mself\u001b[39m\u001b[38;5;241m.\u001b[39m_jobs[\u001b[38;5;241m0\u001b[39m]\u001b[38;5;241m.\u001b[39mget_status(\n\u001b[1;32m   1761\u001b[0m         timeout\u001b[38;5;241m=\u001b[39m\u001b[38;5;28mself\u001b[39m\u001b[38;5;241m.\u001b[39mtimeout) \u001b[38;5;241m==\u001b[39m TASK_PENDING)):\n\u001b[0;32m-> 1762\u001b[0m     \u001b[43mtime\u001b[49m\u001b[38;5;241;43m.\u001b[39;49m\u001b[43msleep\u001b[49m\u001b[43m(\u001b[49m\u001b[38;5;241;43m0.01\u001b[39;49m\u001b[43m)\u001b[49m\n\u001b[1;32m   1763\u001b[0m     \u001b[38;5;28;01mcontinue\u001b[39;00m\n\u001b[1;32m   1765\u001b[0m \u001b[38;5;66;03m# We need to be careful: the job list can be filling up as\u001b[39;00m\n\u001b[1;32m   1766\u001b[0m \u001b[38;5;66;03m# we empty it and Python list are not thread-safe by\u001b[39;00m\n\u001b[1;32m   1767\u001b[0m \u001b[38;5;66;03m# default hence the use of the lock\u001b[39;00m\n",
      "\u001b[0;31mKeyboardInterrupt\u001b[0m: "
     ]
    }
   ],
   "source": [
    "# Initialize a dictionary to store the results\n",
    "reg_results = {}\n",
    "\n",
    "# Evaluate each regressor using cross-validation\n",
    "for reg_name, reg in regs:\n",
    "    print(f'Testing model: {reg_name}')\n",
    "    cv_rmses = cross_val_score(reg, X_train_prepared, y_train_prepared.ravel(), cv=reg_kf, scoring=custom_rmse_scorer, n_jobs=-1)\n",
    "    reg_results[reg_name] = cv_rmses\n",
    "    \n",
    "# Convert the results to a DataFrame\n",
    "reg_cv_scores_df = pd.DataFrame(reg_results)"
   ]
  },
  {
   "cell_type": "markdown",
   "metadata": {},
   "source": [
    "We can now plot the CV results with a box plot to get a good visualisation of the results."
   ]
  },
  {
   "cell_type": "code",
   "execution_count": 357,
   "metadata": {},
   "outputs": [
    {
     "data": {
      "text/plain": [
       "Text(0.5, 1.0, 'Cross-Validation Scores for Different Regressors')"
      ]
     },
     "execution_count": 357,
     "metadata": {},
     "output_type": "execute_result"
    },
    {
     "data": {
      "image/png": "[encoded data removed]",
      "text/plain": [
       "<Figure size 1600x800 with 1 Axes>"
      ]
     },
     "metadata": {},
     "output_type": "display_data"
    }
   ],
   "source": [
    "# Plot scores\n",
    "fig, ax = plt.subplots(figsize=(16, 8))\n",
    "sns.boxplot(reg_cv_scores_df)\n",
    "\n",
    "# Add axis labels\n",
    "ax.set_xlabel('Regressor', fontsize=12)\n",
    "ax.set_ylabel('CV RMSE /£', fontsize=12)\n",
    "ax.set_title('Cross-Validation Scores for Different Regressors', fontsize=14)"
   ]
  },
  {
   "cell_type": "markdown",
   "metadata": {},
   "source": [
    "We can see the linear regressors peformed poorly, so let's do this plot again without them so we can zoom in on the others."
   ]
  },
  {
   "cell_type": "code",
   "execution_count": 358,
   "metadata": {},
   "outputs": [],
   "source": [
    "# Create new results dictionary without linears\n",
    "reg_results_2 = {key:value for key, value in reg_results.items() if key not in ['Linear Regression', 'SGD Regressor']}\n",
    "# Create df from dict\n",
    "reg_results_2_df = pd.DataFrame(reg_results_2)"
   ]
  },
  {
   "cell_type": "code",
   "execution_count": 359,
   "metadata": {},
   "outputs": [
    {
     "data": {
      "text/plain": [
       "Text(0.5, 1.0, 'Cross-Validation Scores for Different Regressors')"
      ]
     },
     "execution_count": 359,
     "metadata": {},
     "output_type": "execute_result"
    },
    {
     "data": {
      "image/png": "[encoded data removed]",
      "text/plain": [
       "<Figure size 1600x800 with 1 Axes>"
      ]
     },
     "metadata": {},
     "output_type": "display_data"
    }
   ],
   "source": [
    "# Plot scores\n",
    "fig, ax = plt.subplots(figsize=(16, 8))\n",
    "sns.boxplot(reg_results_2_df)\n",
    "\n",
    "# Add axis labels\n",
    "ax.set_xlabel('Regressor', fontsize=12)\n",
    "ax.set_ylabel('CV RMSE /£', fontsize=12)\n",
    "ax.set_title('Cross-Validation Scores for Different Regressors', fontsize=14)"
   ]
  },
  {
   "cell_type": "markdown",
   "metadata": {},
   "source": [
    "We can see that the random forest model performed much better than the other models, so we'll proceed with this."
   ]
  },
  {
   "cell_type": "markdown",
   "metadata": {},
   "source": [
    "### 7. Hyperparameter Tuning\n",
    "\n",
    "As this model will be deployed on Heroku, we need to find a balance between high predictive power and complexity/size to remain budget friendly. Random forest models trained on larger/complex datasets can easily reach several GBs in size after binarisation.\n",
    "\n",
    "We'll limit the complexity of the model by limiting the value of hyperparameters during our tuning.\n",
    "\n",
    "To tune hyperparameters, we'll use Optuna. To make the process more efficient, we'll take only a sample of the training data. This will make fitting the model much faster each time it is fitted through tuning, while hopefully not reducing the accruacy of the model."
   ]
  },
  {
   "cell_type": "code",
   "execution_count": 414,
   "metadata": {},
   "outputs": [],
   "source": [
    "# Take a random sample of 15% of the training data\n",
    "X_train_sampled = X_train_prepared_df.sample(frac=0.15, random_state=42)\n",
    "\n",
    "# Create a series for y for the corresponding X data\n",
    "y_train_sampled = y_train_prepared[X_train_sampled.index]\n",
    "\n",
    "# Create train/test samples for study\n",
    "X_train_study, X_test_study, y_train_study, y_test_study = train_test_split(X_train_sampled, y_train_sampled, test_size=0.2, random_state=42)"
   ]
  },
  {
   "cell_type": "code",
   "execution_count": 502,
   "metadata": {},
   "outputs": [],
   "source": [
    "# Create objective function\n",
    "def objective(trial):\n",
    "    # Define the hyperparameter search space\n",
    "    n_estimators = trial.suggest_int('n_estimators', 5, 30) # Limit parameters to keep size of model reasonable\n",
    "    max_depth = trial.suggest_int('max_depth', 5, 30)\n",
    "    min_samples_split = trial.suggest_int('min_samples_split', 2, 10)\n",
    "    min_samples_leaf = trial.suggest_int('min_samples_leaf', 1, 10)\n",
    "    bootstrap = trial.suggest_categorical('bootstrap', [True, False])\n",
    "    \n",
    "    # Create the model\n",
    "    rf = RandomForestRegressor(\n",
    "        n_estimators=n_estimators,\n",
    "        max_depth=max_depth,\n",
    "        min_samples_split=min_samples_split,\n",
    "        min_samples_leaf=min_samples_leaf,\n",
    "        bootstrap=bootstrap,\n",
    "        random_state=42,\n",
    "        n_jobs=-1\n",
    "    )\n",
    "    \n",
    "    # Perform cross-validation to evaluate the model\n",
    "    cv_rmse = cross_val_score(rf, X_train_sampled, y_train_sampled.ravel(), cv=3, scoring=custom_rmse_scorer, n_jobs=-1)\n",
    "    \n",
    "    # Return the average RMSE across folds\n",
    "    return cv_rmse.mean()"
   ]
  },
  {
   "cell_type": "code",
   "execution_count": 503,
   "metadata": {},
   "outputs": [
    {
     "name": "stderr",
     "output_type": "stream",
     "text": [
      "[I 2024-08-09 21:57:32,355] A new study created in memory with name: no-name-4b71216f-263a-493c-a39a-71d903188600\n"
     ]
    },
    {
     "name": "stdout",
     "output_type": "stream",
     "text": [
      "[I 2024-08-09 21:57:32,355] A new study created in memory with name: no-name-4b71216f-263a-493c-a39a-71d903188600\n",
      "[I 2024-08-09 21:57:32,355] A new study created in memory with name: no-name-4b71216f-263a-493c-a39a-71d903188600\n"
     ]
    },
    {
     "name": "stderr",
     "output_type": "stream",
     "text": [
      "[I 2024-08-09 21:57:40,896] Trial 0 finished with value: 3203.657308068061 and parameters: {'n_estimators': 11, 'max_depth': 24, 'min_samples_split': 6, 'min_samples_leaf': 8, 'bootstrap': True}. Best is trial 0 with value: 3203.657308068061.\n"
     ]
    },
    {
     "name": "stdout",
     "output_type": "stream",
     "text": [
      "[I 2024-08-09 21:57:40,896] Trial 0 finished with value: 3203.657308068061 and parameters: {'n_estimators': 11, 'max_depth': 24, 'min_samples_split': 6, 'min_samples_leaf': 8, 'bootstrap': True}. Best is trial 0 with value: 3203.657308068061.\n",
      "[I 2024-08-09 21:57:40,896] Trial 0 finished with value: 3203.657308068061 and parameters: {'n_estimators': 11, 'max_depth': 24, 'min_samples_split': 6, 'min_samples_leaf': 8, 'bootstrap': True}. Best is trial 0 with value: 3203.657308068061.\n"
     ]
    },
    {
     "name": "stderr",
     "output_type": "stream",
     "text": [
      "[I 2024-08-09 21:57:41,239] Trial 1 finished with value: 3189.8447488795205 and parameters: {'n_estimators': 12, 'max_depth': 13, 'min_samples_split': 4, 'min_samples_leaf': 4, 'bootstrap': True}. Best is trial 1 with value: 3189.8447488795205.\n"
     ]
    },
    {
     "name": "stdout",
     "output_type": "stream",
     "text": [
      "[I 2024-08-09 21:57:41,239] Trial 1 finished with value: 3189.8447488795205 and parameters: {'n_estimators': 12, 'max_depth': 13, 'min_samples_split': 4, 'min_samples_leaf': 4, 'bootstrap': True}. Best is trial 1 with value: 3189.8447488795205.\n",
      "[I 2024-08-09 21:57:41,239] Trial 1 finished with value: 3189.8447488795205 and parameters: {'n_estimators': 12, 'max_depth': 13, 'min_samples_split': 4, 'min_samples_leaf': 4, 'bootstrap': True}. Best is trial 1 with value: 3189.8447488795205.\n"
     ]
    },
    {
     "name": "stderr",
     "output_type": "stream",
     "text": [
      "[I 2024-08-09 21:57:49,978] Trial 3 finished with value: 3488.386080144544 and parameters: {'n_estimators': 11, 'max_depth': 28, 'min_samples_split': 7, 'min_samples_leaf': 1, 'bootstrap': False}. Best is trial 1 with value: 3189.8447488795205.\n"
     ]
    },
    {
     "name": "stdout",
     "output_type": "stream",
     "text": [
      "[I 2024-08-09 21:57:49,978] Trial 3 finished with value: 3488.386080144544 and parameters: {'n_estimators': 11, 'max_depth': 28, 'min_samples_split': 7, 'min_samples_leaf': 1, 'bootstrap': False}. Best is trial 1 with value: 3189.8447488795205.\n",
      "[I 2024-08-09 21:57:49,978] Trial 3 finished with value: 3488.386080144544 and parameters: {'n_estimators': 11, 'max_depth': 28, 'min_samples_split': 7, 'min_samples_leaf': 1, 'bootstrap': False}. Best is trial 1 with value: 3189.8447488795205.\n"
     ]
    },
    {
     "name": "stderr",
     "output_type": "stream",
     "text": [
      "[I 2024-08-09 21:57:50,329] Trial 2 finished with value: 3036.416117097169 and parameters: {'n_estimators': 23, 'max_depth': 14, 'min_samples_split': 5, 'min_samples_leaf': 3, 'bootstrap': True}. Best is trial 2 with value: 3036.416117097169.\n"
     ]
    },
    {
     "name": "stdout",
     "output_type": "stream",
     "text": [
      "[I 2024-08-09 21:57:50,329] Trial 2 finished with value: 3036.416117097169 and parameters: {'n_estimators': 23, 'max_depth': 14, 'min_samples_split': 5, 'min_samples_leaf': 3, 'bootstrap': True}. Best is trial 2 with value: 3036.416117097169.\n",
      "[I 2024-08-09 21:57:50,329] Trial 2 finished with value: 3036.416117097169 and parameters: {'n_estimators': 23, 'max_depth': 14, 'min_samples_split': 5, 'min_samples_leaf': 3, 'bootstrap': True}. Best is trial 2 with value: 3036.416117097169.\n"
     ]
    },
    {
     "name": "stderr",
     "output_type": "stream",
     "text": [
      "[I 2024-08-09 21:57:54,576] Trial 9 finished with value: 6114.34288079153 and parameters: {'n_estimators': 10, 'max_depth': 5, 'min_samples_split': 8, 'min_samples_leaf': 7, 'bootstrap': True}. Best is trial 2 with value: 3036.416117097169.\n"
     ]
    },
    {
     "name": "stdout",
     "output_type": "stream",
     "text": [
      "[I 2024-08-09 21:57:54,576] Trial 9 finished with value: 6114.34288079153 and parameters: {'n_estimators': 10, 'max_depth': 5, 'min_samples_split': 8, 'min_samples_leaf': 7, 'bootstrap': True}. Best is trial 2 with value: 3036.416117097169.\n",
      "[I 2024-08-09 21:57:54,576] Trial 9 finished with value: 6114.34288079153 and parameters: {'n_estimators': 10, 'max_depth': 5, 'min_samples_split': 8, 'min_samples_leaf': 7, 'bootstrap': True}. Best is trial 2 with value: 3036.416117097169.\n"
     ]
    },
    {
     "name": "stderr",
     "output_type": "stream",
     "text": [
      "[I 2024-08-09 21:57:58,085] Trial 5 finished with value: 2955.292209141771 and parameters: {'n_estimators': 18, 'max_depth': 27, 'min_samples_split': 7, 'min_samples_leaf': 4, 'bootstrap': True}. Best is trial 5 with value: 2955.292209141771.\n"
     ]
    },
    {
     "name": "stdout",
     "output_type": "stream",
     "text": [
      "[I 2024-08-09 21:57:58,085] Trial 5 finished with value: 2955.292209141771 and parameters: {'n_estimators': 18, 'max_depth': 27, 'min_samples_split': 7, 'min_samples_leaf': 4, 'bootstrap': True}. Best is trial 5 with value: 2955.292209141771.\n",
      "[I 2024-08-09 21:57:58,085] Trial 5 finished with value: 2955.292209141771 and parameters: {'n_estimators': 18, 'max_depth': 27, 'min_samples_split': 7, 'min_samples_leaf': 4, 'bootstrap': True}. Best is trial 5 with value: 2955.292209141771.\n"
     ]
    },
    {
     "name": "stderr",
     "output_type": "stream",
     "text": [
      "[I 2024-08-09 21:57:59,455] Trial 4 finished with value: 3810.6194912751257 and parameters: {'n_estimators': 16, 'max_depth': 12, 'min_samples_split': 6, 'min_samples_leaf': 7, 'bootstrap': False}. Best is trial 5 with value: 2955.292209141771.\n"
     ]
    },
    {
     "name": "stdout",
     "output_type": "stream",
     "text": [
      "[I 2024-08-09 21:57:59,455] Trial 4 finished with value: 3810.6194912751257 and parameters: {'n_estimators': 16, 'max_depth': 12, 'min_samples_split': 6, 'min_samples_leaf': 7, 'bootstrap': False}. Best is trial 5 with value: 2955.292209141771.\n",
      "[I 2024-08-09 21:57:59,455] Trial 4 finished with value: 3810.6194912751257 and parameters: {'n_estimators': 16, 'max_depth': 12, 'min_samples_split': 6, 'min_samples_leaf': 7, 'bootstrap': False}. Best is trial 5 with value: 2955.292209141771.\n"
     ]
    },
    {
     "name": "stderr",
     "output_type": "stream",
     "text": [
      "[I 2024-08-09 21:58:04,869] Trial 6 finished with value: 3568.9115667103274 and parameters: {'n_estimators': 5, 'max_depth': 16, 'min_samples_split': 5, 'min_samples_leaf': 7, 'bootstrap': False}. Best is trial 5 with value: 2955.292209141771.\n"
     ]
    },
    {
     "name": "stdout",
     "output_type": "stream",
     "text": [
      "[I 2024-08-09 21:58:04,869] Trial 6 finished with value: 3568.9115667103274 and parameters: {'n_estimators': 5, 'max_depth': 16, 'min_samples_split': 5, 'min_samples_leaf': 7, 'bootstrap': False}. Best is trial 5 with value: 2955.292209141771.\n",
      "[I 2024-08-09 21:58:04,869] Trial 6 finished with value: 3568.9115667103274 and parameters: {'n_estimators': 5, 'max_depth': 16, 'min_samples_split': 5, 'min_samples_leaf': 7, 'bootstrap': False}. Best is trial 5 with value: 2955.292209141771.\n"
     ]
    },
    {
     "name": "stderr",
     "output_type": "stream",
     "text": [
      "[I 2024-08-09 21:58:11,228] Trial 8 finished with value: 4778.503100062052 and parameters: {'n_estimators': 14, 'max_depth': 8, 'min_samples_split': 2, 'min_samples_leaf': 5, 'bootstrap': False}. Best is trial 5 with value: 2955.292209141771.\n"
     ]
    },
    {
     "name": "stdout",
     "output_type": "stream",
     "text": [
      "[I 2024-08-09 21:58:11,228] Trial 8 finished with value: 4778.503100062052 and parameters: {'n_estimators': 14, 'max_depth': 8, 'min_samples_split': 2, 'min_samples_leaf': 5, 'bootstrap': False}. Best is trial 5 with value: 2955.292209141771.\n",
      "[I 2024-08-09 21:58:11,228] Trial 8 finished with value: 4778.503100062052 and parameters: {'n_estimators': 14, 'max_depth': 8, 'min_samples_split': 2, 'min_samples_leaf': 5, 'bootstrap': False}. Best is trial 5 with value: 2955.292209141771.\n"
     ]
    },
    {
     "name": "stderr",
     "output_type": "stream",
     "text": [
      "[I 2024-08-09 21:58:15,596] Trial 10 finished with value: 3494.4372385074216 and parameters: {'n_estimators': 10, 'max_depth': 27, 'min_samples_split': 7, 'min_samples_leaf': 5, 'bootstrap': False}. Best is trial 5 with value: 2955.292209141771.\n"
     ]
    },
    {
     "name": "stdout",
     "output_type": "stream",
     "text": [
      "[I 2024-08-09 21:58:15,596] Trial 10 finished with value: 3494.4372385074216 and parameters: {'n_estimators': 10, 'max_depth': 27, 'min_samples_split': 7, 'min_samples_leaf': 5, 'bootstrap': False}. Best is trial 5 with value: 2955.292209141771.\n",
      "[I 2024-08-09 21:58:15,596] Trial 10 finished with value: 3494.4372385074216 and parameters: {'n_estimators': 10, 'max_depth': 27, 'min_samples_split': 7, 'min_samples_leaf': 5, 'bootstrap': False}. Best is trial 5 with value: 2955.292209141771.\n"
     ]
    },
    {
     "name": "stderr",
     "output_type": "stream",
     "text": [
      "[I 2024-08-09 21:58:16,741] Trial 11 finished with value: 2846.990025964824 and parameters: {'n_estimators': 17, 'max_depth': 17, 'min_samples_split': 6, 'min_samples_leaf': 1, 'bootstrap': True}. Best is trial 11 with value: 2846.990025964824.\n"
     ]
    },
    {
     "name": "stdout",
     "output_type": "stream",
     "text": [
      "[I 2024-08-09 21:58:16,741] Trial 11 finished with value: 2846.990025964824 and parameters: {'n_estimators': 17, 'max_depth': 17, 'min_samples_split': 6, 'min_samples_leaf': 1, 'bootstrap': True}. Best is trial 11 with value: 2846.990025964824.\n",
      "[I 2024-08-09 21:58:16,741] Trial 11 finished with value: 2846.990025964824 and parameters: {'n_estimators': 17, 'max_depth': 17, 'min_samples_split': 6, 'min_samples_leaf': 1, 'bootstrap': True}. Best is trial 11 with value: 2846.990025964824.\n"
     ]
    },
    {
     "name": "stderr",
     "output_type": "stream",
     "text": [
      "[I 2024-08-09 21:58:20,270] Trial 7 finished with value: 3592.449415893134 and parameters: {'n_estimators': 27, 'max_depth': 21, 'min_samples_split': 9, 'min_samples_leaf': 9, 'bootstrap': False}. Best is trial 11 with value: 2846.990025964824.\n"
     ]
    },
    {
     "name": "stdout",
     "output_type": "stream",
     "text": [
      "[I 2024-08-09 21:58:20,270] Trial 7 finished with value: 3592.449415893134 and parameters: {'n_estimators': 27, 'max_depth': 21, 'min_samples_split': 9, 'min_samples_leaf': 9, 'bootstrap': False}. Best is trial 11 with value: 2846.990025964824.\n",
      "[I 2024-08-09 21:58:20,270] Trial 7 finished with value: 3592.449415893134 and parameters: {'n_estimators': 27, 'max_depth': 21, 'min_samples_split': 9, 'min_samples_leaf': 9, 'bootstrap': False}. Best is trial 11 with value: 2846.990025964824.\n"
     ]
    },
    {
     "name": "stderr",
     "output_type": "stream",
     "text": [
      "[I 2024-08-09 21:58:29,601] Trial 12 finished with value: 2954.31493882697 and parameters: {'n_estimators': 18, 'max_depth': 29, 'min_samples_split': 6, 'min_samples_leaf': 4, 'bootstrap': True}. Best is trial 11 with value: 2846.990025964824.\n"
     ]
    },
    {
     "name": "stdout",
     "output_type": "stream",
     "text": [
      "[I 2024-08-09 21:58:29,601] Trial 12 finished with value: 2954.31493882697 and parameters: {'n_estimators': 18, 'max_depth': 29, 'min_samples_split': 6, 'min_samples_leaf': 4, 'bootstrap': True}. Best is trial 11 with value: 2846.990025964824.\n",
      "[I 2024-08-09 21:58:29,601] Trial 12 finished with value: 2954.31493882697 and parameters: {'n_estimators': 18, 'max_depth': 29, 'min_samples_split': 6, 'min_samples_leaf': 4, 'bootstrap': True}. Best is trial 11 with value: 2846.990025964824.\n"
     ]
    },
    {
     "name": "stderr",
     "output_type": "stream",
     "text": [
      "[I 2024-08-09 21:58:30,003] Trial 13 finished with value: 5239.928681164306 and parameters: {'n_estimators': 23, 'max_depth': 7, 'min_samples_split': 5, 'min_samples_leaf': 9, 'bootstrap': False}. Best is trial 11 with value: 2846.990025964824.\n"
     ]
    },
    {
     "name": "stdout",
     "output_type": "stream",
     "text": [
      "[I 2024-08-09 21:58:30,003] Trial 13 finished with value: 5239.928681164306 and parameters: {'n_estimators': 23, 'max_depth': 7, 'min_samples_split': 5, 'min_samples_leaf': 9, 'bootstrap': False}. Best is trial 11 with value: 2846.990025964824.\n",
      "[I 2024-08-09 21:58:30,003] Trial 13 finished with value: 5239.928681164306 and parameters: {'n_estimators': 23, 'max_depth': 7, 'min_samples_split': 5, 'min_samples_leaf': 9, 'bootstrap': False}. Best is trial 11 with value: 2846.990025964824.\n"
     ]
    },
    {
     "name": "stderr",
     "output_type": "stream",
     "text": [
      "[I 2024-08-09 21:58:35,382] Trial 15 finished with value: 3707.0175521859314 and parameters: {'n_estimators': 20, 'max_depth': 10, 'min_samples_split': 6, 'min_samples_leaf': 5, 'bootstrap': True}. Best is trial 11 with value: 2846.990025964824.\n"
     ]
    },
    {
     "name": "stdout",
     "output_type": "stream",
     "text": [
      "[I 2024-08-09 21:58:35,382] Trial 15 finished with value: 3707.0175521859314 and parameters: {'n_estimators': 20, 'max_depth': 10, 'min_samples_split': 6, 'min_samples_leaf': 5, 'bootstrap': True}. Best is trial 11 with value: 2846.990025964824.\n",
      "[I 2024-08-09 21:58:35,382] Trial 15 finished with value: 3707.0175521859314 and parameters: {'n_estimators': 20, 'max_depth': 10, 'min_samples_split': 6, 'min_samples_leaf': 5, 'bootstrap': True}. Best is trial 11 with value: 2846.990025964824.\n"
     ]
    },
    {
     "name": "stderr",
     "output_type": "stream",
     "text": [
      "[I 2024-08-09 21:58:36,389] Trial 14 finished with value: 2957.53716491564 and parameters: {'n_estimators': 13, 'max_depth': 15, 'min_samples_split': 5, 'min_samples_leaf': 2, 'bootstrap': True}. Best is trial 11 with value: 2846.990025964824.\n"
     ]
    },
    {
     "name": "stdout",
     "output_type": "stream",
     "text": [
      "[I 2024-08-09 21:58:36,389] Trial 14 finished with value: 2957.53716491564 and parameters: {'n_estimators': 13, 'max_depth': 15, 'min_samples_split': 5, 'min_samples_leaf': 2, 'bootstrap': True}. Best is trial 11 with value: 2846.990025964824.\n",
      "[I 2024-08-09 21:58:36,389] Trial 14 finished with value: 2957.53716491564 and parameters: {'n_estimators': 13, 'max_depth': 15, 'min_samples_split': 5, 'min_samples_leaf': 2, 'bootstrap': True}. Best is trial 11 with value: 2846.990025964824.\n"
     ]
    },
    {
     "name": "stderr",
     "output_type": "stream",
     "text": [
      "[I 2024-08-09 21:58:42,360] Trial 16 finished with value: 4032.2392521353117 and parameters: {'n_estimators': 16, 'max_depth': 9, 'min_samples_split': 5, 'min_samples_leaf': 7, 'bootstrap': True}. Best is trial 11 with value: 2846.990025964824.\n"
     ]
    },
    {
     "name": "stdout",
     "output_type": "stream",
     "text": [
      "[I 2024-08-09 21:58:42,360] Trial 16 finished with value: 4032.2392521353117 and parameters: {'n_estimators': 16, 'max_depth': 9, 'min_samples_split': 5, 'min_samples_leaf': 7, 'bootstrap': True}. Best is trial 11 with value: 2846.990025964824.\n",
      "[I 2024-08-09 21:58:42,360] Trial 16 finished with value: 4032.2392521353117 and parameters: {'n_estimators': 16, 'max_depth': 9, 'min_samples_split': 5, 'min_samples_leaf': 7, 'bootstrap': True}. Best is trial 11 with value: 2846.990025964824.\n"
     ]
    },
    {
     "name": "stderr",
     "output_type": "stream",
     "text": [
      "[I 2024-08-09 21:58:44,653] Trial 18 finished with value: 3361.8164986953275 and parameters: {'n_estimators': 10, 'max_depth': 14, 'min_samples_split': 6, 'min_samples_leaf': 10, 'bootstrap': True}. Best is trial 11 with value: 2846.990025964824.\n"
     ]
    },
    {
     "name": "stdout",
     "output_type": "stream",
     "text": [
      "[I 2024-08-09 21:58:44,653] Trial 18 finished with value: 3361.8164986953275 and parameters: {'n_estimators': 10, 'max_depth': 14, 'min_samples_split': 6, 'min_samples_leaf': 10, 'bootstrap': True}. Best is trial 11 with value: 2846.990025964824.\n",
      "[I 2024-08-09 21:58:44,653] Trial 18 finished with value: 3361.8164986953275 and parameters: {'n_estimators': 10, 'max_depth': 14, 'min_samples_split': 6, 'min_samples_leaf': 10, 'bootstrap': True}. Best is trial 11 with value: 2846.990025964824.\n"
     ]
    },
    {
     "name": "stderr",
     "output_type": "stream",
     "text": [
      "[I 2024-08-09 21:58:45,464] Trial 17 finished with value: 3465.17998997071 and parameters: {'n_estimators': 22, 'max_depth': 11, 'min_samples_split': 9, 'min_samples_leaf': 4, 'bootstrap': True}. Best is trial 11 with value: 2846.990025964824.\n"
     ]
    },
    {
     "name": "stdout",
     "output_type": "stream",
     "text": [
      "[I 2024-08-09 21:58:45,464] Trial 17 finished with value: 3465.17998997071 and parameters: {'n_estimators': 22, 'max_depth': 11, 'min_samples_split': 9, 'min_samples_leaf': 4, 'bootstrap': True}. Best is trial 11 with value: 2846.990025964824.\n",
      "[I 2024-08-09 21:58:45,464] Trial 17 finished with value: 3465.17998997071 and parameters: {'n_estimators': 22, 'max_depth': 11, 'min_samples_split': 9, 'min_samples_leaf': 4, 'bootstrap': True}. Best is trial 11 with value: 2846.990025964824.\n"
     ]
    },
    {
     "name": "stderr",
     "output_type": "stream",
     "text": [
      "[I 2024-08-09 21:58:48,851] Trial 19 finished with value: 2879.3964512546972 and parameters: {'n_estimators': 9, 'max_depth': 22, 'min_samples_split': 2, 'min_samples_leaf': 2, 'bootstrap': True}. Best is trial 11 with value: 2846.990025964824.\n"
     ]
    },
    {
     "name": "stdout",
     "output_type": "stream",
     "text": [
      "[I 2024-08-09 21:58:48,851] Trial 19 finished with value: 2879.3964512546972 and parameters: {'n_estimators': 9, 'max_depth': 22, 'min_samples_split': 2, 'min_samples_leaf': 2, 'bootstrap': True}. Best is trial 11 with value: 2846.990025964824.\n",
      "[I 2024-08-09 21:58:48,851] Trial 19 finished with value: 2879.3964512546972 and parameters: {'n_estimators': 9, 'max_depth': 22, 'min_samples_split': 2, 'min_samples_leaf': 2, 'bootstrap': True}. Best is trial 11 with value: 2846.990025964824.\n"
     ]
    },
    {
     "name": "stderr",
     "output_type": "stream",
     "text": [
      "[I 2024-08-09 21:59:09,512] Trial 22 finished with value: 2847.3396626854105 and parameters: {'n_estimators': 22, 'max_depth': 21, 'min_samples_split': 10, 'min_samples_leaf': 1, 'bootstrap': True}. Best is trial 11 with value: 2846.990025964824.\n"
     ]
    },
    {
     "name": "stdout",
     "output_type": "stream",
     "text": [
      "[I 2024-08-09 21:59:09,512] Trial 22 finished with value: 2847.3396626854105 and parameters: {'n_estimators': 22, 'max_depth': 21, 'min_samples_split': 10, 'min_samples_leaf': 1, 'bootstrap': True}. Best is trial 11 with value: 2846.990025964824.\n",
      "[I 2024-08-09 21:59:09,512] Trial 22 finished with value: 2847.3396626854105 and parameters: {'n_estimators': 22, 'max_depth': 21, 'min_samples_split': 10, 'min_samples_leaf': 1, 'bootstrap': True}. Best is trial 11 with value: 2846.990025964824.\n"
     ]
    },
    {
     "name": "stderr",
     "output_type": "stream",
     "text": [
      "[I 2024-08-09 21:59:10,689] Trial 20 finished with value: 3180.546710230578 and parameters: {'n_estimators': 26, 'max_depth': 19, 'min_samples_split': 7, 'min_samples_leaf': 8, 'bootstrap': True}. Best is trial 11 with value: 2846.990025964824.\n"
     ]
    },
    {
     "name": "stdout",
     "output_type": "stream",
     "text": [
      "[I 2024-08-09 21:59:10,689] Trial 20 finished with value: 3180.546710230578 and parameters: {'n_estimators': 26, 'max_depth': 19, 'min_samples_split': 7, 'min_samples_leaf': 8, 'bootstrap': True}. Best is trial 11 with value: 2846.990025964824.\n",
      "[I 2024-08-09 21:59:10,689] Trial 20 finished with value: 3180.546710230578 and parameters: {'n_estimators': 26, 'max_depth': 19, 'min_samples_split': 7, 'min_samples_leaf': 8, 'bootstrap': True}. Best is trial 11 with value: 2846.990025964824.\n"
     ]
    },
    {
     "name": "stderr",
     "output_type": "stream",
     "text": [
      "[I 2024-08-09 21:59:11,928] Trial 23 finished with value: 2850.6004541830407 and parameters: {'n_estimators': 21, 'max_depth': 20, 'min_samples_split': 10, 'min_samples_leaf': 1, 'bootstrap': True}. Best is trial 11 with value: 2846.990025964824.\n",
      "[I 2024-08-09 21:59:12,086] Trial 21 finished with value: 3261.2951142097904 and parameters: {'n_estimators': 30, 'max_depth': 21, 'min_samples_split': 10, 'min_samples_leaf': 10, 'bootstrap': True}. Best is trial 11 with value: 2846.990025964824.\n"
     ]
    },
    {
     "name": "stdout",
     "output_type": "stream",
     "text": [
      "[I 2024-08-09 21:59:11,928] Trial 23 finished with value: 2850.6004541830407 and parameters: {'n_estimators': 21, 'max_depth': 20, 'min_samples_split': 10, 'min_samples_leaf': 1, 'bootstrap': True}. Best is trial 11 with value: 2846.990025964824.\n",
      "[I 2024-08-09 21:59:11,928] Trial 23 finished with value: 2850.6004541830407 and parameters: {'n_estimators': 21, 'max_depth': 20, 'min_samples_split': 10, 'min_samples_leaf': 1, 'bootstrap': True}. Best is trial 11 with value: 2846.990025964824.\n",
      "[I 2024-08-09 21:59:12,086] Trial 21 finished with value: 3261.2951142097904 and parameters: {'n_estimators': 30, 'max_depth': 21, 'min_samples_split': 10, 'min_samples_leaf': 10, 'bootstrap': True}. Best is trial 11 with value: 2846.990025964824.\n",
      "[I 2024-08-09 21:59:12,086] Trial 21 finished with value: 3261.2951142097904 and parameters: {'n_estimators': 30, 'max_depth': 21, 'min_samples_split': 10, 'min_samples_leaf': 10, 'bootstrap': True}. Best is trial 11 with value: 2846.990025964824.\n"
     ]
    },
    {
     "name": "stderr",
     "output_type": "stream",
     "text": [
      "[I 2024-08-09 21:59:33,906] Trial 25 finished with value: 2853.090749920328 and parameters: {'n_estimators': 20, 'max_depth': 20, 'min_samples_split': 10, 'min_samples_leaf': 1, 'bootstrap': True}. Best is trial 11 with value: 2846.990025964824.\n"
     ]
    },
    {
     "name": "stdout",
     "output_type": "stream",
     "text": [
      "[I 2024-08-09 21:59:33,906] Trial 25 finished with value: 2853.090749920328 and parameters: {'n_estimators': 20, 'max_depth': 20, 'min_samples_split': 10, 'min_samples_leaf': 1, 'bootstrap': True}. Best is trial 11 with value: 2846.990025964824.\n",
      "[I 2024-08-09 21:59:33,906] Trial 25 finished with value: 2853.090749920328 and parameters: {'n_estimators': 20, 'max_depth': 20, 'min_samples_split': 10, 'min_samples_leaf': 1, 'bootstrap': True}. Best is trial 11 with value: 2846.990025964824.\n"
     ]
    },
    {
     "name": "stderr",
     "output_type": "stream",
     "text": [
      "[I 2024-08-09 21:59:34,917] Trial 24 finished with value: 2781.275061360062 and parameters: {'n_estimators': 20, 'max_depth': 20, 'min_samples_split': 3, 'min_samples_leaf': 1, 'bootstrap': True}. Best is trial 24 with value: 2781.275061360062.\n"
     ]
    },
    {
     "name": "stdout",
     "output_type": "stream",
     "text": [
      "[I 2024-08-09 21:59:34,917] Trial 24 finished with value: 2781.275061360062 and parameters: {'n_estimators': 20, 'max_depth': 20, 'min_samples_split': 3, 'min_samples_leaf': 1, 'bootstrap': True}. Best is trial 24 with value: 2781.275061360062.\n",
      "[I 2024-08-09 21:59:34,917] Trial 24 finished with value: 2781.275061360062 and parameters: {'n_estimators': 20, 'max_depth': 20, 'min_samples_split': 3, 'min_samples_leaf': 1, 'bootstrap': True}. Best is trial 24 with value: 2781.275061360062.\n"
     ]
    },
    {
     "name": "stderr",
     "output_type": "stream",
     "text": [
      "[I 2024-08-09 21:59:37,119] Trial 26 finished with value: 2789.6036396881423 and parameters: {'n_estimators': 20, 'max_depth': 19, 'min_samples_split': 3, 'min_samples_leaf': 1, 'bootstrap': True}. Best is trial 24 with value: 2781.275061360062.\n"
     ]
    },
    {
     "name": "stdout",
     "output_type": "stream",
     "text": [
      "[I 2024-08-09 21:59:37,119] Trial 26 finished with value: 2789.6036396881423 and parameters: {'n_estimators': 20, 'max_depth': 19, 'min_samples_split': 3, 'min_samples_leaf': 1, 'bootstrap': True}. Best is trial 24 with value: 2781.275061360062.\n",
      "[I 2024-08-09 21:59:37,119] Trial 26 finished with value: 2789.6036396881423 and parameters: {'n_estimators': 20, 'max_depth': 19, 'min_samples_split': 3, 'min_samples_leaf': 1, 'bootstrap': True}. Best is trial 24 with value: 2781.275061360062.\n"
     ]
    },
    {
     "name": "stderr",
     "output_type": "stream",
     "text": [
      "[I 2024-08-09 21:59:44,473] Trial 27 finished with value: 2840.316490584533 and parameters: {'n_estimators': 29, 'max_depth': 20, 'min_samples_split': 10, 'min_samples_leaf': 1, 'bootstrap': True}. Best is trial 24 with value: 2781.275061360062.\n"
     ]
    },
    {
     "name": "stdout",
     "output_type": "stream",
     "text": [
      "[I 2024-08-09 21:59:44,473] Trial 27 finished with value: 2840.316490584533 and parameters: {'n_estimators': 29, 'max_depth': 20, 'min_samples_split': 10, 'min_samples_leaf': 1, 'bootstrap': True}. Best is trial 24 with value: 2781.275061360062.\n",
      "[I 2024-08-09 21:59:44,473] Trial 27 finished with value: 2840.316490584533 and parameters: {'n_estimators': 29, 'max_depth': 20, 'min_samples_split': 10, 'min_samples_leaf': 1, 'bootstrap': True}. Best is trial 24 with value: 2781.275061360062.\n"
     ]
    },
    {
     "name": "stderr",
     "output_type": "stream",
     "text": [
      "[I 2024-08-09 21:59:55,381] Trial 31 finished with value: 2945.86904005237 and parameters: {'n_estimators': 6, 'max_depth': 19, 'min_samples_split': 2, 'min_samples_leaf': 1, 'bootstrap': True}. Best is trial 24 with value: 2781.275061360062.\n"
     ]
    },
    {
     "name": "stdout",
     "output_type": "stream",
     "text": [
      "[I 2024-08-09 21:59:55,381] Trial 31 finished with value: 2945.86904005237 and parameters: {'n_estimators': 6, 'max_depth': 19, 'min_samples_split': 2, 'min_samples_leaf': 1, 'bootstrap': True}. Best is trial 24 with value: 2781.275061360062.\n",
      "[I 2024-08-09 21:59:55,381] Trial 31 finished with value: 2945.86904005237 and parameters: {'n_estimators': 6, 'max_depth': 19, 'min_samples_split': 2, 'min_samples_leaf': 1, 'bootstrap': True}. Best is trial 24 with value: 2781.275061360062.\n"
     ]
    },
    {
     "name": "stderr",
     "output_type": "stream",
     "text": [
      "[I 2024-08-09 21:59:59,635] Trial 28 finished with value: 2839.881043949826 and parameters: {'n_estimators': 30, 'max_depth': 20, 'min_samples_split': 10, 'min_samples_leaf': 1, 'bootstrap': True}. Best is trial 24 with value: 2781.275061360062.\n"
     ]
    },
    {
     "name": "stdout",
     "output_type": "stream",
     "text": [
      "[I 2024-08-09 21:59:59,635] Trial 28 finished with value: 2839.881043949826 and parameters: {'n_estimators': 30, 'max_depth': 20, 'min_samples_split': 10, 'min_samples_leaf': 1, 'bootstrap': True}. Best is trial 24 with value: 2781.275061360062.\n",
      "[I 2024-08-09 21:59:59,635] Trial 28 finished with value: 2839.881043949826 and parameters: {'n_estimators': 30, 'max_depth': 20, 'min_samples_split': 10, 'min_samples_leaf': 1, 'bootstrap': True}. Best is trial 24 with value: 2781.275061360062.\n"
     ]
    },
    {
     "name": "stderr",
     "output_type": "stream",
     "text": [
      "[I 2024-08-09 22:00:00,513] Trial 29 finished with value: 2847.8697982263707 and parameters: {'n_estimators': 29, 'max_depth': 19, 'min_samples_split': 10, 'min_samples_leaf': 1, 'bootstrap': True}. Best is trial 24 with value: 2781.275061360062.\n"
     ]
    },
    {
     "name": "stdout",
     "output_type": "stream",
     "text": [
      "[I 2024-08-09 22:00:00,513] Trial 29 finished with value: 2847.8697982263707 and parameters: {'n_estimators': 29, 'max_depth': 19, 'min_samples_split': 10, 'min_samples_leaf': 1, 'bootstrap': True}. Best is trial 24 with value: 2781.275061360062.\n",
      "[I 2024-08-09 22:00:00,513] Trial 29 finished with value: 2847.8697982263707 and parameters: {'n_estimators': 29, 'max_depth': 19, 'min_samples_split': 10, 'min_samples_leaf': 1, 'bootstrap': True}. Best is trial 24 with value: 2781.275061360062.\n"
     ]
    },
    {
     "name": "stderr",
     "output_type": "stream",
     "text": [
      "[I 2024-08-09 22:00:05,225] Trial 30 finished with value: 2785.4824739227734 and parameters: {'n_estimators': 26, 'max_depth': 19, 'min_samples_split': 3, 'min_samples_leaf': 1, 'bootstrap': True}. Best is trial 24 with value: 2781.275061360062.\n"
     ]
    },
    {
     "name": "stdout",
     "output_type": "stream",
     "text": [
      "[I 2024-08-09 22:00:05,225] Trial 30 finished with value: 2785.4824739227734 and parameters: {'n_estimators': 26, 'max_depth': 19, 'min_samples_split': 3, 'min_samples_leaf': 1, 'bootstrap': True}. Best is trial 24 with value: 2781.275061360062.\n",
      "[I 2024-08-09 22:00:05,225] Trial 30 finished with value: 2785.4824739227734 and parameters: {'n_estimators': 26, 'max_depth': 19, 'min_samples_split': 3, 'min_samples_leaf': 1, 'bootstrap': True}. Best is trial 24 with value: 2781.275061360062.\n"
     ]
    },
    {
     "name": "stderr",
     "output_type": "stream",
     "text": [
      "[I 2024-08-09 22:00:20,471] Trial 32 finished with value: 2846.9573637178087 and parameters: {'n_estimators': 30, 'max_depth': 19, 'min_samples_split': 10, 'min_samples_leaf': 1, 'bootstrap': True}. Best is trial 24 with value: 2781.275061360062.\n"
     ]
    },
    {
     "name": "stdout",
     "output_type": "stream",
     "text": [
      "[I 2024-08-09 22:00:20,471] Trial 32 finished with value: 2846.9573637178087 and parameters: {'n_estimators': 30, 'max_depth': 19, 'min_samples_split': 10, 'min_samples_leaf': 1, 'bootstrap': True}. Best is trial 24 with value: 2781.275061360062.\n",
      "[I 2024-08-09 22:00:20,471] Trial 32 finished with value: 2846.9573637178087 and parameters: {'n_estimators': 30, 'max_depth': 19, 'min_samples_split': 10, 'min_samples_leaf': 1, 'bootstrap': True}. Best is trial 24 with value: 2781.275061360062.\n"
     ]
    },
    {
     "name": "stderr",
     "output_type": "stream",
     "text": [
      "[I 2024-08-09 22:00:22,692] Trial 35 finished with value: 2886.7122171293486 and parameters: {'n_estimators': 20, 'max_depth': 17, 'min_samples_split': 10, 'min_samples_leaf': 1, 'bootstrap': True}. Best is trial 24 with value: 2781.275061360062.\n"
     ]
    },
    {
     "name": "stdout",
     "output_type": "stream",
     "text": [
      "[I 2024-08-09 22:00:22,692] Trial 35 finished with value: 2886.7122171293486 and parameters: {'n_estimators': 20, 'max_depth': 17, 'min_samples_split': 10, 'min_samples_leaf': 1, 'bootstrap': True}. Best is trial 24 with value: 2781.275061360062.\n",
      "[I 2024-08-09 22:00:22,692] Trial 35 finished with value: 2886.7122171293486 and parameters: {'n_estimators': 20, 'max_depth': 17, 'min_samples_split': 10, 'min_samples_leaf': 1, 'bootstrap': True}. Best is trial 24 with value: 2781.275061360062.\n"
     ]
    },
    {
     "name": "stderr",
     "output_type": "stream",
     "text": [
      "[I 2024-08-09 22:00:26,652] Trial 34 finished with value: 2859.010473994656 and parameters: {'n_estimators': 29, 'max_depth': 18, 'min_samples_split': 10, 'min_samples_leaf': 1, 'bootstrap': True}. Best is trial 24 with value: 2781.275061360062.\n"
     ]
    },
    {
     "name": "stdout",
     "output_type": "stream",
     "text": [
      "[I 2024-08-09 22:00:26,652] Trial 34 finished with value: 2859.010473994656 and parameters: {'n_estimators': 29, 'max_depth': 18, 'min_samples_split': 10, 'min_samples_leaf': 1, 'bootstrap': True}. Best is trial 24 with value: 2781.275061360062.\n",
      "[I 2024-08-09 22:00:26,652] Trial 34 finished with value: 2859.010473994656 and parameters: {'n_estimators': 29, 'max_depth': 18, 'min_samples_split': 10, 'min_samples_leaf': 1, 'bootstrap': True}. Best is trial 24 with value: 2781.275061360062.\n"
     ]
    },
    {
     "name": "stderr",
     "output_type": "stream",
     "text": [
      "[I 2024-08-09 22:00:27,144] Trial 33 finished with value: 2834.1761628323325 and parameters: {'n_estimators': 30, 'max_depth': 22, 'min_samples_split': 10, 'min_samples_leaf': 1, 'bootstrap': True}. Best is trial 24 with value: 2781.275061360062.\n"
     ]
    },
    {
     "name": "stdout",
     "output_type": "stream",
     "text": [
      "[I 2024-08-09 22:00:27,144] Trial 33 finished with value: 2834.1761628323325 and parameters: {'n_estimators': 30, 'max_depth': 22, 'min_samples_split': 10, 'min_samples_leaf': 1, 'bootstrap': True}. Best is trial 24 with value: 2781.275061360062.\n",
      "[I 2024-08-09 22:00:27,144] Trial 33 finished with value: 2834.1761628323325 and parameters: {'n_estimators': 30, 'max_depth': 22, 'min_samples_split': 10, 'min_samples_leaf': 1, 'bootstrap': True}. Best is trial 24 with value: 2781.275061360062.\n"
     ]
    },
    {
     "name": "stderr",
     "output_type": "stream",
     "text": [
      "[I 2024-08-09 22:00:45,055] Trial 38 finished with value: 2868.1845433636904 and parameters: {'n_estimators': 16, 'max_depth': 17, 'min_samples_split': 3, 'min_samples_leaf': 2, 'bootstrap': True}. Best is trial 24 with value: 2781.275061360062.\n"
     ]
    },
    {
     "name": "stdout",
     "output_type": "stream",
     "text": [
      "[I 2024-08-09 22:00:45,055] Trial 38 finished with value: 2868.1845433636904 and parameters: {'n_estimators': 16, 'max_depth': 17, 'min_samples_split': 3, 'min_samples_leaf': 2, 'bootstrap': True}. Best is trial 24 with value: 2781.275061360062.\n",
      "[I 2024-08-09 22:00:45,055] Trial 38 finished with value: 2868.1845433636904 and parameters: {'n_estimators': 16, 'max_depth': 17, 'min_samples_split': 3, 'min_samples_leaf': 2, 'bootstrap': True}. Best is trial 24 with value: 2781.275061360062.\n"
     ]
    },
    {
     "name": "stderr",
     "output_type": "stream",
     "text": [
      "[I 2024-08-09 22:00:46,080] Trial 36 finished with value: 2903.887712971529 and parameters: {'n_estimators': 25, 'max_depth': 17, 'min_samples_split': 9, 'min_samples_leaf': 2, 'bootstrap': True}. Best is trial 24 with value: 2781.275061360062.\n"
     ]
    },
    {
     "name": "stdout",
     "output_type": "stream",
     "text": [
      "[I 2024-08-09 22:00:46,080] Trial 36 finished with value: 2903.887712971529 and parameters: {'n_estimators': 25, 'max_depth': 17, 'min_samples_split': 9, 'min_samples_leaf': 2, 'bootstrap': True}. Best is trial 24 with value: 2781.275061360062.\n",
      "[I 2024-08-09 22:00:46,080] Trial 36 finished with value: 2903.887712971529 and parameters: {'n_estimators': 25, 'max_depth': 17, 'min_samples_split': 9, 'min_samples_leaf': 2, 'bootstrap': True}. Best is trial 24 with value: 2781.275061360062.\n"
     ]
    },
    {
     "name": "stderr",
     "output_type": "stream",
     "text": [
      "[I 2024-08-09 22:00:49,838] Trial 37 finished with value: 2855.1481832610243 and parameters: {'n_estimators': 26, 'max_depth': 17, 'min_samples_split': 4, 'min_samples_leaf': 2, 'bootstrap': True}. Best is trial 24 with value: 2781.275061360062.\n"
     ]
    },
    {
     "name": "stdout",
     "output_type": "stream",
     "text": [
      "[I 2024-08-09 22:00:49,838] Trial 37 finished with value: 2855.1481832610243 and parameters: {'n_estimators': 26, 'max_depth': 17, 'min_samples_split': 4, 'min_samples_leaf': 2, 'bootstrap': True}. Best is trial 24 with value: 2781.275061360062.\n",
      "[I 2024-08-09 22:00:49,838] Trial 37 finished with value: 2855.1481832610243 and parameters: {'n_estimators': 26, 'max_depth': 17, 'min_samples_split': 4, 'min_samples_leaf': 2, 'bootstrap': True}. Best is trial 24 with value: 2781.275061360062.\n"
     ]
    },
    {
     "name": "stderr",
     "output_type": "stream",
     "text": [
      "[I 2024-08-09 22:00:57,110] Trial 39 finished with value: 2815.7784372161427 and parameters: {'n_estimators': 26, 'max_depth': 24, 'min_samples_split': 3, 'min_samples_leaf': 2, 'bootstrap': True}. Best is trial 24 with value: 2781.275061360062.\n"
     ]
    },
    {
     "name": "stdout",
     "output_type": "stream",
     "text": [
      "[I 2024-08-09 22:00:57,110] Trial 39 finished with value: 2815.7784372161427 and parameters: {'n_estimators': 26, 'max_depth': 24, 'min_samples_split': 3, 'min_samples_leaf': 2, 'bootstrap': True}. Best is trial 24 with value: 2781.275061360062.\n",
      "[I 2024-08-09 22:00:57,110] Trial 39 finished with value: 2815.7784372161427 and parameters: {'n_estimators': 26, 'max_depth': 24, 'min_samples_split': 3, 'min_samples_leaf': 2, 'bootstrap': True}. Best is trial 24 with value: 2781.275061360062.\n"
     ]
    },
    {
     "name": "stderr",
     "output_type": "stream",
     "text": [
      "[I 2024-08-09 22:01:14,260] Trial 40 finished with value: 2815.7784372161427 and parameters: {'n_estimators': 26, 'max_depth': 24, 'min_samples_split': 3, 'min_samples_leaf': 2, 'bootstrap': True}. Best is trial 24 with value: 2781.275061360062.\n"
     ]
    },
    {
     "name": "stdout",
     "output_type": "stream",
     "text": [
      "[I 2024-08-09 22:01:14,260] Trial 40 finished with value: 2815.7784372161427 and parameters: {'n_estimators': 26, 'max_depth': 24, 'min_samples_split': 3, 'min_samples_leaf': 2, 'bootstrap': True}. Best is trial 24 with value: 2781.275061360062.\n",
      "[I 2024-08-09 22:01:14,260] Trial 40 finished with value: 2815.7784372161427 and parameters: {'n_estimators': 26, 'max_depth': 24, 'min_samples_split': 3, 'min_samples_leaf': 2, 'bootstrap': True}. Best is trial 24 with value: 2781.275061360062.\n"
     ]
    },
    {
     "name": "stderr",
     "output_type": "stream",
     "text": [
      "[I 2024-08-09 22:01:14,886] Trial 41 finished with value: 2816.7660785577955 and parameters: {'n_estimators': 25, 'max_depth': 24, 'min_samples_split': 3, 'min_samples_leaf': 2, 'bootstrap': True}. Best is trial 24 with value: 2781.275061360062.\n"
     ]
    },
    {
     "name": "stdout",
     "output_type": "stream",
     "text": [
      "[I 2024-08-09 22:01:14,886] Trial 41 finished with value: 2816.7660785577955 and parameters: {'n_estimators': 25, 'max_depth': 24, 'min_samples_split': 3, 'min_samples_leaf': 2, 'bootstrap': True}. Best is trial 24 with value: 2781.275061360062.\n",
      "[I 2024-08-09 22:01:14,886] Trial 41 finished with value: 2816.7660785577955 and parameters: {'n_estimators': 25, 'max_depth': 24, 'min_samples_split': 3, 'min_samples_leaf': 2, 'bootstrap': True}. Best is trial 24 with value: 2781.275061360062.\n"
     ]
    },
    {
     "name": "stderr",
     "output_type": "stream",
     "text": [
      "[I 2024-08-09 22:01:19,626] Trial 42 finished with value: 2815.7784372161427 and parameters: {'n_estimators': 26, 'max_depth': 24, 'min_samples_split': 3, 'min_samples_leaf': 2, 'bootstrap': True}. Best is trial 24 with value: 2781.275061360062.\n"
     ]
    },
    {
     "name": "stdout",
     "output_type": "stream",
     "text": [
      "[I 2024-08-09 22:01:19,626] Trial 42 finished with value: 2815.7784372161427 and parameters: {'n_estimators': 26, 'max_depth': 24, 'min_samples_split': 3, 'min_samples_leaf': 2, 'bootstrap': True}. Best is trial 24 with value: 2781.275061360062.\n",
      "[I 2024-08-09 22:01:19,626] Trial 42 finished with value: 2815.7784372161427 and parameters: {'n_estimators': 26, 'max_depth': 24, 'min_samples_split': 3, 'min_samples_leaf': 2, 'bootstrap': True}. Best is trial 24 with value: 2781.275061360062.\n"
     ]
    },
    {
     "name": "stderr",
     "output_type": "stream",
     "text": [
      "[I 2024-08-09 22:01:27,934] Trial 43 finished with value: 2815.7784372161427 and parameters: {'n_estimators': 26, 'max_depth': 24, 'min_samples_split': 3, 'min_samples_leaf': 2, 'bootstrap': True}. Best is trial 24 with value: 2781.275061360062.\n"
     ]
    },
    {
     "name": "stdout",
     "output_type": "stream",
     "text": [
      "[I 2024-08-09 22:01:27,934] Trial 43 finished with value: 2815.7784372161427 and parameters: {'n_estimators': 26, 'max_depth': 24, 'min_samples_split': 3, 'min_samples_leaf': 2, 'bootstrap': True}. Best is trial 24 with value: 2781.275061360062.\n",
      "[I 2024-08-09 22:01:27,934] Trial 43 finished with value: 2815.7784372161427 and parameters: {'n_estimators': 26, 'max_depth': 24, 'min_samples_split': 3, 'min_samples_leaf': 2, 'bootstrap': True}. Best is trial 24 with value: 2781.275061360062.\n"
     ]
    },
    {
     "name": "stderr",
     "output_type": "stream",
     "text": [
      "[I 2024-08-09 22:01:42,267] Trial 44 finished with value: 2816.7660785577955 and parameters: {'n_estimators': 25, 'max_depth': 24, 'min_samples_split': 3, 'min_samples_leaf': 2, 'bootstrap': True}. Best is trial 24 with value: 2781.275061360062.\n"
     ]
    },
    {
     "name": "stdout",
     "output_type": "stream",
     "text": [
      "[I 2024-08-09 22:01:42,267] Trial 44 finished with value: 2816.7660785577955 and parameters: {'n_estimators': 25, 'max_depth': 24, 'min_samples_split': 3, 'min_samples_leaf': 2, 'bootstrap': True}. Best is trial 24 with value: 2781.275061360062.\n",
      "[I 2024-08-09 22:01:42,267] Trial 44 finished with value: 2816.7660785577955 and parameters: {'n_estimators': 25, 'max_depth': 24, 'min_samples_split': 3, 'min_samples_leaf': 2, 'bootstrap': True}. Best is trial 24 with value: 2781.275061360062.\n"
     ]
    },
    {
     "name": "stderr",
     "output_type": "stream",
     "text": [
      "[I 2024-08-09 22:01:42,706] Trial 45 finished with value: 2816.0902525647907 and parameters: {'n_estimators': 25, 'max_depth': 25, 'min_samples_split': 3, 'min_samples_leaf': 2, 'bootstrap': True}. Best is trial 24 with value: 2781.275061360062.\n"
     ]
    },
    {
     "name": "stdout",
     "output_type": "stream",
     "text": [
      "[I 2024-08-09 22:01:42,706] Trial 45 finished with value: 2816.0902525647907 and parameters: {'n_estimators': 25, 'max_depth': 25, 'min_samples_split': 3, 'min_samples_leaf': 2, 'bootstrap': True}. Best is trial 24 with value: 2781.275061360062.\n",
      "[I 2024-08-09 22:01:42,706] Trial 45 finished with value: 2816.0902525647907 and parameters: {'n_estimators': 25, 'max_depth': 25, 'min_samples_split': 3, 'min_samples_leaf': 2, 'bootstrap': True}. Best is trial 24 with value: 2781.275061360062.\n"
     ]
    },
    {
     "name": "stderr",
     "output_type": "stream",
     "text": [
      "[I 2024-08-09 22:01:47,324] Trial 46 finished with value: 2816.7660785577955 and parameters: {'n_estimators': 25, 'max_depth': 24, 'min_samples_split': 3, 'min_samples_leaf': 2, 'bootstrap': True}. Best is trial 24 with value: 2781.275061360062.\n"
     ]
    },
    {
     "name": "stdout",
     "output_type": "stream",
     "text": [
      "[I 2024-08-09 22:01:47,324] Trial 46 finished with value: 2816.7660785577955 and parameters: {'n_estimators': 25, 'max_depth': 24, 'min_samples_split': 3, 'min_samples_leaf': 2, 'bootstrap': True}. Best is trial 24 with value: 2781.275061360062.\n",
      "[I 2024-08-09 22:01:47,324] Trial 46 finished with value: 2816.7660785577955 and parameters: {'n_estimators': 25, 'max_depth': 24, 'min_samples_split': 3, 'min_samples_leaf': 2, 'bootstrap': True}. Best is trial 24 with value: 2781.275061360062.\n"
     ]
    },
    {
     "name": "stderr",
     "output_type": "stream",
     "text": [
      "[I 2024-08-09 22:01:51,136] Trial 47 finished with value: 2879.428059229447 and parameters: {'n_estimators': 25, 'max_depth': 24, 'min_samples_split': 3, 'min_samples_leaf': 3, 'bootstrap': True}. Best is trial 24 with value: 2781.275061360062.\n"
     ]
    },
    {
     "name": "stdout",
     "output_type": "stream",
     "text": [
      "[I 2024-08-09 22:01:51,136] Trial 47 finished with value: 2879.428059229447 and parameters: {'n_estimators': 25, 'max_depth': 24, 'min_samples_split': 3, 'min_samples_leaf': 3, 'bootstrap': True}. Best is trial 24 with value: 2781.275061360062.\n",
      "[I 2024-08-09 22:01:51,136] Trial 47 finished with value: 2879.428059229447 and parameters: {'n_estimators': 25, 'max_depth': 24, 'min_samples_split': 3, 'min_samples_leaf': 3, 'bootstrap': True}. Best is trial 24 with value: 2781.275061360062.\n"
     ]
    },
    {
     "name": "stderr",
     "output_type": "stream",
     "text": [
      "[I 2024-08-09 22:01:59,392] Trial 48 finished with value: 2879.419073432198 and parameters: {'n_estimators': 26, 'max_depth': 24, 'min_samples_split': 3, 'min_samples_leaf': 3, 'bootstrap': True}. Best is trial 24 with value: 2781.275061360062.\n",
      "[I 2024-08-09 22:01:59,480] Trial 49 finished with value: 3447.2074755842805 and parameters: {'n_estimators': 24, 'max_depth': 24, 'min_samples_split': 3, 'min_samples_leaf': 3, 'bootstrap': False}. Best is trial 24 with value: 2781.275061360062.\n"
     ]
    },
    {
     "name": "stdout",
     "output_type": "stream",
     "text": [
      "[I 2024-08-09 22:01:59,392] Trial 48 finished with value: 2879.419073432198 and parameters: {'n_estimators': 26, 'max_depth': 24, 'min_samples_split': 3, 'min_samples_leaf': 3, 'bootstrap': True}. Best is trial 24 with value: 2781.275061360062.\n",
      "[I 2024-08-09 22:01:59,392] Trial 48 finished with value: 2879.419073432198 and parameters: {'n_estimators': 26, 'max_depth': 24, 'min_samples_split': 3, 'min_samples_leaf': 3, 'bootstrap': True}. Best is trial 24 with value: 2781.275061360062.\n",
      "[I 2024-08-09 22:01:59,480] Trial 49 finished with value: 3447.2074755842805 and parameters: {'n_estimators': 24, 'max_depth': 24, 'min_samples_split': 3, 'min_samples_leaf': 3, 'bootstrap': False}. Best is trial 24 with value: 2781.275061360062.\n",
      "[I 2024-08-09 22:01:59,480] Trial 49 finished with value: 3447.2074755842805 and parameters: {'n_estimators': 24, 'max_depth': 24, 'min_samples_split': 3, 'min_samples_leaf': 3, 'bootstrap': False}. Best is trial 24 with value: 2781.275061360062.\n"
     ]
    }
   ],
   "source": [
    "# Create a study object and optimize the objective function\n",
    "study = optuna.create_study(direction='minimize')\n",
    "\n",
    "study.optimize(objective, n_trials=50, show_progress_bar=False, n_jobs=-1)"
   ]
  },
  {
   "cell_type": "code",
   "execution_count": 504,
   "metadata": {},
   "outputs": [
    {
     "name": "stdout",
     "output_type": "stream",
     "text": [
      "Best parameters: {'n_estimators': 20, 'max_depth': 20, 'min_samples_split': 3, 'min_samples_leaf': 1, 'bootstrap': True}\n",
      "Best RMSE: 2781.275061360062\n"
     ]
    }
   ],
   "source": [
    "best_params = study.best_params\n",
    "print(f'Best parameters: {study.best_params}')\n",
    "print(f'Best RMSE: {study.best_value}')"
   ]
  },
  {
   "cell_type": "markdown",
   "metadata": {},
   "source": [
    "### 8. Model Evaluation\n",
    "\n",
    "OK, we have our best parameters and a preliminary score. Let's create the model using these params and then use cross-validation on the entire test set (as it's only been tested on the sample so far) to get a better understanding of its performance."
   ]
  },
  {
   "cell_type": "code",
   "execution_count": 505,
   "metadata": {},
   "outputs": [
    {
     "name": "stdout",
     "output_type": "stream",
     "text": [
      "Mean RMSE across folds: 1948.3578444529298\n"
     ]
    }
   ],
   "source": [
    "# Create the model with the best hyperparameters\n",
    "rf_model = RandomForestRegressor(\n",
    "    n_estimators=best_params['n_estimators'],\n",
    "    max_depth=best_params['max_depth'],\n",
    "    min_samples_split=best_params['min_samples_split'],\n",
    "    min_samples_leaf=best_params['min_samples_leaf'],\n",
    "    bootstrap=best_params['bootstrap'],\n",
    "    random_state=42,\n",
    "    n_jobs=-1\n",
    ")\n",
    "\n",
    "# Cross-validate the model using the whole training set\n",
    "cv_rmse_scores = cross_val_score(rf_model, X_train_prepared, y_train_prepared.ravel(), cv=10, scoring=custom_rmse_scorer, n_jobs=-1)\n",
    "\n",
    "# Calculate the mean and standard deviation of RMSE scores\n",
    "mean_rmse = cv_rmse_scores.mean()\n",
    "\n",
    "print(f'Mean RMSE across folds: {mean_rmse}')"
   ]
  },
  {
   "cell_type": "markdown",
   "metadata": {},
   "source": [
    "Great, let's now fit the final model."
   ]
  },
  {
   "cell_type": "code",
   "execution_count": 506,
   "metadata": {},
   "outputs": [
    {
     "data": {
      "text/html": [
       "<style>#sk-container-id-7 {\n",
       "  /* Definition of color scheme common for light and dark mode */\n",
       "  --sklearn-color-text: black;\n",
       "  --sklearn-color-line: gray;\n",
       "  /* Definition of color scheme for unfitted estimators */\n",
       "  --sklearn-color-unfitted-level-0: #fff5e6;\n",
       "  --sklearn-color-unfitted-level-1: #f6e4d2;\n",
       "  --sklearn-color-unfitted-level-2: #ffe0b3;\n",
       "  --sklearn-color-unfitted-level-3: chocolate;\n",
       "  /* Definition of color scheme for fitted estimators */\n",
       "  --sklearn-color-fitted-level-0: #f0f8ff;\n",
       "  --sklearn-color-fitted-level-1: #d4ebff;\n",
       "  --sklearn-color-fitted-level-2: #b3dbfd;\n",
       "  --sklearn-color-fitted-level-3: cornflowerblue;\n",
       "\n",
       "  /* Specific color for light theme */\n",
       "  --sklearn-color-text-on-default-background: var(--sg-text-color, var(--theme-code-foreground, var(--jp-content-font-color1, black)));\n",
       "  --sklearn-color-background: var(--sg-background-color, var(--theme-background, var(--jp-layout-color0, white)));\n",
       "  --sklearn-color-border-box: var(--sg-text-color, var(--theme-code-foreground, var(--jp-content-font-color1, black)));\n",
       "  --sklearn-color-icon: #696969;\n",
       "\n",
       "  @media (prefers-color-scheme: dark) {\n",
       "    /* Redefinition of color scheme for dark theme */\n",
       "    --sklearn-color-text-on-default-background: var(--sg-text-color, var(--theme-code-foreground, var(--jp-content-font-color1, white)));\n",
       "    --sklearn-color-background: var(--sg-background-color, var(--theme-background, var(--jp-layout-color0, #111)));\n",
       "    --sklearn-color-border-box: var(--sg-text-color, var(--theme-code-foreground, var(--jp-content-font-color1, white)));\n",
       "    --sklearn-color-icon: #878787;\n",
       "  }\n",
       "}\n",
       "\n",
       "#sk-container-id-7 {\n",
       "  color: var(--sklearn-color-text);\n",
       "}\n",
       "\n",
       "#sk-container-id-7 pre {\n",
       "  padding: 0;\n",
       "}\n",
       "\n",
       "#sk-container-id-7 input.sk-hidden--visually {\n",
       "  border: 0;\n",
       "  clip: rect(1px 1px 1px 1px);\n",
       "  clip: rect(1px, 1px, 1px, 1px);\n",
       "  height: 1px;\n",
       "  margin: -1px;\n",
       "  overflow: hidden;\n",
       "  padding: 0;\n",
       "  position: absolute;\n",
       "  width: 1px;\n",
       "}\n",
       "\n",
       "#sk-container-id-7 div.sk-dashed-wrapped {\n",
       "  border: 1px dashed var(--sklearn-color-line);\n",
       "  margin: 0 0.4em 0.5em 0.4em;\n",
       "  box-sizing: border-box;\n",
       "  padding-bottom: 0.4em;\n",
       "  background-color: var(--sklearn-color-background);\n",
       "}\n",
       "\n",
       "#sk-container-id-7 div.sk-container {\n",
       "  /* jupyter's `normalize.less` sets `[hidden] { display: none; }`\n",
       "     but bootstrap.min.css set `[hidden] { display: none !important; }`\n",
       "     so we also need the `!important` here to be able to override the\n",
       "     default hidden behavior on the sphinx rendered scikit-learn.org.\n",
       "     See: https://github.com/scikit-learn/scikit-learn/issues/21755 */\n",
       "  display: inline-block !important;\n",
       "  position: relative;\n",
       "}\n",
       "\n",
       "#sk-container-id-7 div.sk-text-repr-fallback {\n",
       "  display: none;\n",
       "}\n",
       "\n",
       "div.sk-parallel-item,\n",
       "div.sk-serial,\n",
       "div.sk-item {\n",
       "  /* draw centered vertical line to link estimators */\n",
       "  background-image: linear-gradient(var(--sklearn-color-text-on-default-background), var(--sklearn-color-text-on-default-background));\n",
       "  background-size: 2px 100%;\n",
       "  background-repeat: no-repeat;\n",
       "  background-position: center center;\n",
       "}\n",
       "\n",
       "/* Parallel-specific style estimator block */\n",
       "\n",
       "#sk-container-id-7 div.sk-parallel-item::after {\n",
       "  content: \"\";\n",
       "  width: 100%;\n",
       "  border-bottom: 2px solid var(--sklearn-color-text-on-default-background);\n",
       "  flex-grow: 1;\n",
       "}\n",
       "\n",
       "#sk-container-id-7 div.sk-parallel {\n",
       "  display: flex;\n",
       "  align-items: stretch;\n",
       "  justify-content: center;\n",
       "  background-color: var(--sklearn-color-background);\n",
       "  position: relative;\n",
       "}\n",
       "\n",
       "#sk-container-id-7 div.sk-parallel-item {\n",
       "  display: flex;\n",
       "  flex-direction: column;\n",
       "}\n",
       "\n",
       "#sk-container-id-7 div.sk-parallel-item:first-child::after {\n",
       "  align-self: flex-end;\n",
       "  width: 50%;\n",
       "}\n",
       "\n",
       "#sk-container-id-7 div.sk-parallel-item:last-child::after {\n",
       "  align-self: flex-start;\n",
       "  width: 50%;\n",
       "}\n",
       "\n",
       "#sk-container-id-7 div.sk-parallel-item:only-child::after {\n",
       "  width: 0;\n",
       "}\n",
       "\n",
       "/* Serial-specific style estimator block */\n",
       "\n",
       "#sk-container-id-7 div.sk-serial {\n",
       "  display: flex;\n",
       "  flex-direction: column;\n",
       "  align-items: center;\n",
       "  background-color: var(--sklearn-color-background);\n",
       "  padding-right: 1em;\n",
       "  padding-left: 1em;\n",
       "}\n",
       "\n",
       "\n",
       "/* Toggleable style: style used for estimator/Pipeline/ColumnTransformer box that is\n",
       "clickable and can be expanded/collapsed.\n",
       "- Pipeline and ColumnTransformer use this feature and define the default style\n",
       "- Estimators will overwrite some part of the style using the `sk-estimator` class\n",
       "*/\n",
       "\n",
       "/* Pipeline and ColumnTransformer style (default) */\n",
       "\n",
       "#sk-container-id-7 div.sk-toggleable {\n",
       "  /* Default theme specific background. It is overwritten whether we have a\n",
       "  specific estimator or a Pipeline/ColumnTransformer */\n",
       "  background-color: var(--sklearn-color-background);\n",
       "}\n",
       "\n",
       "/* Toggleable label */\n",
       "#sk-container-id-7 label.sk-toggleable__label {\n",
       "  cursor: pointer;\n",
       "  display: block;\n",
       "  width: 100%;\n",
       "  margin-bottom: 0;\n",
       "  padding: 0.5em;\n",
       "  box-sizing: border-box;\n",
       "  text-align: center;\n",
       "}\n",
       "\n",
       "#sk-container-id-7 label.sk-toggleable__label-arrow:before {\n",
       "  /* Arrow on the left of the label */\n",
       "  content: \"▸\";\n",
       "  float: left;\n",
       "  margin-right: 0.25em;\n",
       "  color: var(--sklearn-color-icon);\n",
       "}\n",
       "\n",
       "#sk-container-id-7 label.sk-toggleable__label-arrow:hover:before {\n",
       "  color: var(--sklearn-color-text);\n",
       "}\n",
       "\n",
       "/* Toggleable content - dropdown */\n",
       "\n",
       "#sk-container-id-7 div.sk-toggleable__content {\n",
       "  max-height: 0;\n",
       "  max-width: 0;\n",
       "  overflow: hidden;\n",
       "  text-align: left;\n",
       "  /* unfitted */\n",
       "  background-color: var(--sklearn-color-unfitted-level-0);\n",
       "}\n",
       "\n",
       "#sk-container-id-7 div.sk-toggleable__content.fitted {\n",
       "  /* fitted */\n",
       "  background-color: var(--sklearn-color-fitted-level-0);\n",
       "}\n",
       "\n",
       "#sk-container-id-7 div.sk-toggleable__content pre {\n",
       "  margin: 0.2em;\n",
       "  border-radius: 0.25em;\n",
       "  color: var(--sklearn-color-text);\n",
       "  /* unfitted */\n",
       "  background-color: var(--sklearn-color-unfitted-level-0);\n",
       "}\n",
       "\n",
       "#sk-container-id-7 div.sk-toggleable__content.fitted pre {\n",
       "  /* unfitted */\n",
       "  background-color: var(--sklearn-color-fitted-level-0);\n",
       "}\n",
       "\n",
       "#sk-container-id-7 input.sk-toggleable__control:checked~div.sk-toggleable__content {\n",
       "  /* Expand drop-down */\n",
       "  max-height: 200px;\n",
       "  max-width: 100%;\n",
       "  overflow: auto;\n",
       "}\n",
       "\n",
       "#sk-container-id-7 input.sk-toggleable__control:checked~label.sk-toggleable__label-arrow:before {\n",
       "  content: \"▾\";\n",
       "}\n",
       "\n",
       "/* Pipeline/ColumnTransformer-specific style */\n",
       "\n",
       "#sk-container-id-7 div.sk-label input.sk-toggleable__control:checked~label.sk-toggleable__label {\n",
       "  color: var(--sklearn-color-text);\n",
       "  background-color: var(--sklearn-color-unfitted-level-2);\n",
       "}\n",
       "\n",
       "#sk-container-id-7 div.sk-label.fitted input.sk-toggleable__control:checked~label.sk-toggleable__label {\n",
       "  background-color: var(--sklearn-color-fitted-level-2);\n",
       "}\n",
       "\n",
       "/* Estimator-specific style */\n",
       "\n",
       "/* Colorize estimator box */\n",
       "#sk-container-id-7 div.sk-estimator input.sk-toggleable__control:checked~label.sk-toggleable__label {\n",
       "  /* unfitted */\n",
       "  background-color: var(--sklearn-color-unfitted-level-2);\n",
       "}\n",
       "\n",
       "#sk-container-id-7 div.sk-estimator.fitted input.sk-toggleable__control:checked~label.sk-toggleable__label {\n",
       "  /* fitted */\n",
       "  background-color: var(--sklearn-color-fitted-level-2);\n",
       "}\n",
       "\n",
       "#sk-container-id-7 div.sk-label label.sk-toggleable__label,\n",
       "#sk-container-id-7 div.sk-label label {\n",
       "  /* The background is the default theme color */\n",
       "  color: var(--sklearn-color-text-on-default-background);\n",
       "}\n",
       "\n",
       "/* On hover, darken the color of the background */\n",
       "#sk-container-id-7 div.sk-label:hover label.sk-toggleable__label {\n",
       "  color: var(--sklearn-color-text);\n",
       "  background-color: var(--sklearn-color-unfitted-level-2);\n",
       "}\n",
       "\n",
       "/* Label box, darken color on hover, fitted */\n",
       "#sk-container-id-7 div.sk-label.fitted:hover label.sk-toggleable__label.fitted {\n",
       "  color: var(--sklearn-color-text);\n",
       "  background-color: var(--sklearn-color-fitted-level-2);\n",
       "}\n",
       "\n",
       "/* Estimator label */\n",
       "\n",
       "#sk-container-id-7 div.sk-label label {\n",
       "  font-family: monospace;\n",
       "  font-weight: bold;\n",
       "  display: inline-block;\n",
       "  line-height: 1.2em;\n",
       "}\n",
       "\n",
       "#sk-container-id-7 div.sk-label-container {\n",
       "  text-align: center;\n",
       "}\n",
       "\n",
       "/* Estimator-specific */\n",
       "#sk-container-id-7 div.sk-estimator {\n",
       "  font-family: monospace;\n",
       "  border: 1px dotted var(--sklearn-color-border-box);\n",
       "  border-radius: 0.25em;\n",
       "  box-sizing: border-box;\n",
       "  margin-bottom: 0.5em;\n",
       "  /* unfitted */\n",
       "  background-color: var(--sklearn-color-unfitted-level-0);\n",
       "}\n",
       "\n",
       "#sk-container-id-7 div.sk-estimator.fitted {\n",
       "  /* fitted */\n",
       "  background-color: var(--sklearn-color-fitted-level-0);\n",
       "}\n",
       "\n",
       "/* on hover */\n",
       "#sk-container-id-7 div.sk-estimator:hover {\n",
       "  /* unfitted */\n",
       "  background-color: var(--sklearn-color-unfitted-level-2);\n",
       "}\n",
       "\n",
       "#sk-container-id-7 div.sk-estimator.fitted:hover {\n",
       "  /* fitted */\n",
       "  background-color: var(--sklearn-color-fitted-level-2);\n",
       "}\n",
       "\n",
       "/* Specification for estimator info (e.g. \"i\" and \"?\") */\n",
       "\n",
       "/* Common style for \"i\" and \"?\" */\n",
       "\n",
       ".sk-estimator-doc-link,\n",
       "a:link.sk-estimator-doc-link,\n",
       "a:visited.sk-estimator-doc-link {\n",
       "  float: right;\n",
       "  font-size: smaller;\n",
       "  line-height: 1em;\n",
       "  font-family: monospace;\n",
       "  background-color: var(--sklearn-color-background);\n",
       "  border-radius: 1em;\n",
       "  height: 1em;\n",
       "  width: 1em;\n",
       "  text-decoration: none !important;\n",
       "  margin-left: 1ex;\n",
       "  /* unfitted */\n",
       "  border: var(--sklearn-color-unfitted-level-1) 1pt solid;\n",
       "  color: var(--sklearn-color-unfitted-level-1);\n",
       "}\n",
       "\n",
       ".sk-estimator-doc-link.fitted,\n",
       "a:link.sk-estimator-doc-link.fitted,\n",
       "a:visited.sk-estimator-doc-link.fitted {\n",
       "  /* fitted */\n",
       "  border: var(--sklearn-color-fitted-level-1) 1pt solid;\n",
       "  color: var(--sklearn-color-fitted-level-1);\n",
       "}\n",
       "\n",
       "/* On hover */\n",
       "div.sk-estimator:hover .sk-estimator-doc-link:hover,\n",
       ".sk-estimator-doc-link:hover,\n",
       "div.sk-label-container:hover .sk-estimator-doc-link:hover,\n",
       ".sk-estimator-doc-link:hover {\n",
       "  /* unfitted */\n",
       "  background-color: var(--sklearn-color-unfitted-level-3);\n",
       "  color: var(--sklearn-color-background);\n",
       "  text-decoration: none;\n",
       "}\n",
       "\n",
       "div.sk-estimator.fitted:hover .sk-estimator-doc-link.fitted:hover,\n",
       ".sk-estimator-doc-link.fitted:hover,\n",
       "div.sk-label-container:hover .sk-estimator-doc-link.fitted:hover,\n",
       ".sk-estimator-doc-link.fitted:hover {\n",
       "  /* fitted */\n",
       "  background-color: var(--sklearn-color-fitted-level-3);\n",
       "  color: var(--sklearn-color-background);\n",
       "  text-decoration: none;\n",
       "}\n",
       "\n",
       "/* Span, style for the box shown on hovering the info icon */\n",
       ".sk-estimator-doc-link span {\n",
       "  display: none;\n",
       "  z-index: 9999;\n",
       "  position: relative;\n",
       "  font-weight: normal;\n",
       "  right: .2ex;\n",
       "  padding: .5ex;\n",
       "  margin: .5ex;\n",
       "  width: min-content;\n",
       "  min-width: 20ex;\n",
       "  max-width: 50ex;\n",
       "  color: var(--sklearn-color-text);\n",
       "  box-shadow: 2pt 2pt 4pt #999;\n",
       "  /* unfitted */\n",
       "  background: var(--sklearn-color-unfitted-level-0);\n",
       "  border: .5pt solid var(--sklearn-color-unfitted-level-3);\n",
       "}\n",
       "\n",
       ".sk-estimator-doc-link.fitted span {\n",
       "  /* fitted */\n",
       "  background: var(--sklearn-color-fitted-level-0);\n",
       "  border: var(--sklearn-color-fitted-level-3);\n",
       "}\n",
       "\n",
       ".sk-estimator-doc-link:hover span {\n",
       "  display: block;\n",
       "}\n",
       "\n",
       "/* \"?\"-specific style due to the `<a>` HTML tag */\n",
       "\n",
       "#sk-container-id-7 a.estimator_doc_link {\n",
       "  float: right;\n",
       "  font-size: 1rem;\n",
       "  line-height: 1em;\n",
       "  font-family: monospace;\n",
       "  background-color: var(--sklearn-color-background);\n",
       "  border-radius: 1rem;\n",
       "  height: 1rem;\n",
       "  width: 1rem;\n",
       "  text-decoration: none;\n",
       "  /* unfitted */\n",
       "  color: var(--sklearn-color-unfitted-level-1);\n",
       "  border: var(--sklearn-color-unfitted-level-1) 1pt solid;\n",
       "}\n",
       "\n",
       "#sk-container-id-7 a.estimator_doc_link.fitted {\n",
       "  /* fitted */\n",
       "  border: var(--sklearn-color-fitted-level-1) 1pt solid;\n",
       "  color: var(--sklearn-color-fitted-level-1);\n",
       "}\n",
       "\n",
       "/* On hover */\n",
       "#sk-container-id-7 a.estimator_doc_link:hover {\n",
       "  /* unfitted */\n",
       "  background-color: var(--sklearn-color-unfitted-level-3);\n",
       "  color: var(--sklearn-color-background);\n",
       "  text-decoration: none;\n",
       "}\n",
       "\n",
       "#sk-container-id-7 a.estimator_doc_link.fitted:hover {\n",
       "  /* fitted */\n",
       "  background-color: var(--sklearn-color-fitted-level-3);\n",
       "}\n",
       "</style><div id=\"sk-container-id-7\" class=\"sk-top-container\"><div class=\"sk-text-repr-fallback\"><pre>RandomForestRegressor(max_depth=20, min_samples_split=3, n_estimators=20,\n",
       "                      n_jobs=-1, random_state=42)</pre><b>In a Jupyter environment, please rerun this cell to show the HTML representation or trust the notebook. <br />On GitHub, the HTML representation is unable to render, please try loading this page with nbviewer.org.</b></div><div class=\"sk-container\" hidden><div class=\"sk-item\"><div class=\"sk-estimator fitted sk-toggleable\"><input class=\"sk-toggleable__control sk-hidden--visually\" id=\"sk-estimator-id-7\" type=\"checkbox\" checked><label for=\"sk-estimator-id-7\" class=\"sk-toggleable__label fitted sk-toggleable__label-arrow fitted\">&nbsp;&nbsp;RandomForestRegressor<a class=\"sk-estimator-doc-link fitted\" rel=\"noreferrer\" target=\"_blank\" href=\"https://scikit-learn.org/1.4/modules/generated/sklearn.ensemble.RandomForestRegressor.html\">?<span>Documentation for RandomForestRegressor</span></a><span class=\"sk-estimator-doc-link fitted\">i<span>Fitted</span></span></label><div class=\"sk-toggleable__content fitted\"><pre>RandomForestRegressor(max_depth=20, min_samples_split=3, n_estimators=20,\n",
       "                      n_jobs=-1, random_state=42)</pre></div> </div></div></div></div>"
      ],
      "text/plain": [
       "RandomForestRegressor(max_depth=20, min_samples_split=3, n_estimators=20,\n",
       "                      n_jobs=-1, random_state=42)"
      ]
     },
     "execution_count": 506,
     "metadata": {},
     "output_type": "execute_result"
    }
   ],
   "source": [
    "# Fit the model on the entire training set\n",
    "rf_model.fit(X_train_prepared, y_train_prepared.ravel())"
   ]
  },
  {
   "cell_type": "markdown",
   "metadata": {},
   "source": [
    "It's now time to test the model with the test dataset!"
   ]
  },
  {
   "cell_type": "code",
   "execution_count": 507,
   "metadata": {},
   "outputs": [
    {
     "name": "stderr",
     "output_type": "stream",
     "text": [
      "/Library/Frameworks/Python.framework/Versions/3.12/lib/python3.12/site-packages/sklearn/preprocessing/_encoders.py:241: UserWarning: Found unknown categories in columns [0, 1, 2] during transform. These unknown categories will be encoded as all zeros\n",
      "  warnings.warn(\n"
     ]
    }
   ],
   "source": [
    "# Prepare the test set\n",
    "X_test_prepared = preprocess_pipeline.transform(X_test)"
   ]
  },
  {
   "cell_type": "code",
   "execution_count": 508,
   "metadata": {},
   "outputs": [],
   "source": [
    "# Make predictions on the test data\n",
    "y_test_pred = rf_model.predict(X_train_prepared)"
   ]
  },
  {
   "cell_type": "code",
   "execution_count": 509,
   "metadata": {},
   "outputs": [
    {
     "name": "stdout",
     "output_type": "stream",
     "text": [
      "Test RMSE: 1896.0628774979539\n"
     ]
    }
   ],
   "source": [
    "# Make predictions on the test data\n",
    "y_test_pred = rf_model.predict(X_test_prepared)\n",
    "\n",
    "y_test_pred_real = target_pipeline.inverse_transform(y_test_pred.reshape(-1, 1))\n",
    "\n",
    "# Calculate custom RMSE using your custom scorer\n",
    "test_rmse = np.sqrt(mean_squared_error(y_test, y_test_pred_real))\n",
    "\n",
    "print(f'Test RMSE: {test_rmse}')"
   ]
  },
  {
   "cell_type": "markdown",
   "metadata": {},
   "source": [
    "This is a good result! It's very much inline with the cross-validation scores on the training set, in fact, slightly better. We're now done with creating the model."
   ]
  },
  {
   "cell_type": "markdown",
   "metadata": {},
   "source": [
    "### 9. Saving Trained Model and Pipelines\n",
    "\n",
    "We can now save the trained model by exporting pkl files. We also need to save the preprocessing pipeline and target variable pipeline so we can feed values into the model and then convert predictions back to meaningful values."
   ]
  },
  {
   "cell_type": "code",
   "execution_count": 510,
   "metadata": {},
   "outputs": [],
   "source": [
    "with open('model/model.pkl', 'wb') as file1:\n",
    "    pickle.dump(rf_model, file1, protocol=-1)\n",
    "\n",
    "with open('model/pipeline.pkl', 'wb') as file2:\n",
    "    pickle.dump(preprocess_pipeline, file2)\n",
    "\n",
    "with open('model/target_pipeline.pkl', 'wb') as file3:\n",
    "    pickle.dump(target_pipeline, file3)"
   ]
  },
  {
   "cell_type": "markdown",
   "metadata": {},
   "source": [
    "As mentioned previously, we wanted to balance model complexity and model size to keep our app budget friendly when it comes to deployment. Let's check the size of the saved model. The cheaper Heroku plans have 512MB of RAM available, so we need to keep the model below this, with some space reserved for the rest of the application."
   ]
  },
  {
   "cell_type": "code",
   "execution_count": 511,
   "metadata": {},
   "outputs": [
    {
     "name": "stdout",
     "output_type": "stream",
     "text": [
      "Model size: 242.30 MB\n"
     ]
    }
   ],
   "source": [
    "# Get the file size in bytes\n",
    "file_size_bytes = os.path.getsize('model/model.pkl')\n",
    "\n",
    "# Convert bytes to megabytes (MB)\n",
    "file_size_mb = file_size_bytes / (1024 * 1024)\n",
    "\n",
    "# Print the file size\n",
    "print(f\"Model size: {file_size_mb:.2f} MB\")"
   ]
  },
  {
   "cell_type": "markdown",
   "metadata": {},
   "source": [
    "### 10. Creating Car Data Library\n",
    "\n",
    "We need to create a library of options users of the web app can select. For example, if a user selects the make 'Ford' from a dropdown, the dropdown for model should then be populated with all models for Ford vehicles from the dataset.\n",
    "\n",
    "This won't include every vehicle, but given we have close to 1,000,000 records, it should contain the large majority of more recent common vehicles within the UK.\n",
    "\n",
    "To do this, let's create a JSON file that defines these vehicles configurations which we can load in the web app."
   ]
  },
  {
   "cell_type": "code",
   "execution_count": 498,
   "metadata": {},
   "outputs": [],
   "source": [
    "# Create nested dictionary\n",
    "nested_dict = {}\n",
    "for i, row in imputed_car_data.iterrows():\n",
    "    make = row['make']\n",
    "    model = row['model']\n",
    "    variant = row['variant']\n",
    "    details = {\n",
    "        'body_type': row['body_type'],\n",
    "        'engine_vol': row['engine_vol'],\n",
    "        'transmission': row['transmission'],\n",
    "        'fuel_type': row['fuel_type'],\n",
    "        'ulez': row['ulez'],\n",
    "        'engine_power': row['engine_power'],\n",
    "    }\n",
    "\n",
    "    nested_dict.setdefault(make, {}).setdefault(model, {}).setdefault('variants', {}).setdefault(variant, details)\n",
    "\n",
    "# Save to JSON file\n",
    "with open('car_data.json', 'w') as f:\n",
    "    json.dump(nested_dict, f, indent=4)"
   ]
  },
  {
   "cell_type": "code",
   "execution_count": null,
   "metadata": {},
   "outputs": [],
   "source": []
  }
 ],
 "metadata": {
  "kernelspec": {
   "display_name": "Python 3",
   "language": "python",
   "name": "python3"
  },
  "language_info": {
   "codemirror_mode": {
    "name": "ipython",
    "version": 3
   },
   "file_extension": ".py",
   "mimetype": "text/x-python",
   "name": "python",
   "nbconvert_exporter": "python",
   "pygments_lexer": "ipython3",
   "version": "3.12.2"
  }
 },
 "nbformat": 4,
 "nbformat_minor": 2
}
